{
 "cells": [
  {
   "cell_type": "code",
   "execution_count": 1,
   "metadata": {
    "collapsed": false
   },
   "outputs": [
    {
     "name": "stdout",
     "output_type": "stream",
     "text": [
      "Archive:  amtrak.zip\n",
      "  inflating: agency.txt              \n",
      "   creating: __MACOSX/\n",
      "  inflating: __MACOSX/._agency.txt   \n",
      "  inflating: calendar.txt            \n",
      "  inflating: __MACOSX/._calendar.txt  \n",
      "  inflating: routes.txt              \n",
      "  inflating: __MACOSX/._routes.txt   \n",
      "  inflating: stop_times.txt          \n",
      "  inflating: __MACOSX/._stop_times.txt  \n",
      "  inflating: stops.txt               \n",
      "  inflating: __MACOSX/._stops.txt    \n",
      "  inflating: transfers.txt           \n",
      "  inflating: __MACOSX/._transfers.txt  \n",
      "  inflating: trips.txt               \n",
      "  inflating: __MACOSX/._trips.txt    \n"
     ]
    },
    {
     "name": "stderr",
     "output_type": "stream",
     "text": [
      "--2017-04-19 22:37:20--  http://github.com/transitland/gtfs-archives-not-hosted-elsewhere/raw/master/amtrak.zip\n",
      "Resolving github.com... 192.30.253.112, 192.30.253.113\n",
      "Connecting to github.com|192.30.253.112|:80... connected.\n",
      "HTTP request sent, awaiting response... 301 Moved Permanently\n",
      "Location: https://github.com/transitland/gtfs-archives-not-hosted-elsewhere/raw/master/amtrak.zip [following]\n",
      "--2017-04-19 22:37:20--  https://github.com/transitland/gtfs-archives-not-hosted-elsewhere/raw/master/amtrak.zip\n",
      "Connecting to github.com|192.30.253.112|:443... connected.\n",
      "HTTP request sent, awaiting response... 302 Found\n",
      "Location: https://raw.githubusercontent.com/transitland/gtfs-archives-not-hosted-elsewhere/master/amtrak.zip [following]\n",
      "--2017-04-19 22:37:21--  https://raw.githubusercontent.com/transitland/gtfs-archives-not-hosted-elsewhere/master/amtrak.zip\n",
      "Resolving raw.githubusercontent.com... 151.101.20.133\n",
      "Connecting to raw.githubusercontent.com|151.101.20.133|:443... connected.\n",
      "HTTP request sent, awaiting response... 200 OK\n",
      "Length: 197979 (193K) [application/zip]\n",
      "Saving to: ‘amtrak.zip’\n",
      "\n",
      "     0K .......... .......... .......... .......... .......... 25%  791K 0s\n",
      "    50K .......... .......... .......... .......... .......... 51% 3.83M 0s\n",
      "   100K .......... .......... .......... .......... .......... 77% 3.60M 0s\n",
      "   150K .......... .......... .......... .......... ...       100% 8.00M=0.09s\n",
      "\n",
      "2017-04-19 22:37:21 (1.99 MB/s) - ‘amtrak.zip’ saved [197979/197979]\n",
      "\n"
     ]
    }
   ],
   "source": [
    "%%bash\n",
    "\n",
    "mkdir gtfs\n",
    "cd gtfs\n",
    "wget http://github.com/transitland/gtfs-archives-not-hosted-elsewhere/raw/master/amtrak.zip\n",
    "unzip amtrak.zip\n",
    "rm amtrak.zip"
   ]
  },
  {
   "cell_type": "code",
   "execution_count": 9,
   "metadata": {
    "collapsed": false
   },
   "outputs": [
    {
     "name": "stdout",
     "output_type": "stream",
     "text": [
      "__MACOSX\n",
      "agency.txt\n",
      "calendar.txt\n",
      "routes.txt\n",
      "stop_times.txt\n",
      "stops.txt\n",
      "transfers.txt\n",
      "trips.txt\n"
     ]
    }
   ],
   "source": [
    "%%bash\n",
    "cd gtfs\n",
    "ls"
   ]
  },
  {
   "cell_type": "code",
   "execution_count": 10,
   "metadata": {
    "collapsed": true
   },
   "outputs": [],
   "source": [
    "import pandas as pd\n",
    "import numpy as np\n",
    "import datetime as dt"
   ]
  },
  {
   "cell_type": "code",
   "execution_count": 215,
   "metadata": {
    "collapsed": false
   },
   "outputs": [],
   "source": [
    "agency = pd.read_csv('gtfs/agency.txt')\n",
    "#calendar_dates = pd.read_csv('gtfs/calendar_dates.txt')\n",
    "calendar = pd.read_csv('gtfs/calendar.txt')\n",
    "routes = pd.read_csv('gtfs/routes.txt')\n",
    "#shapes = pd.read_csv('gtfs/shapes.txt')\n",
    "stop_times = pd.read_csv('gtfs/stop_times.txt')\n",
    "stops = pd.read_csv('gtfs/stops.txt')\n",
    "trips = pd.read_csv('gtfs/trips.txt')"
   ]
  },
  {
   "cell_type": "code",
   "execution_count": 216,
   "metadata": {
    "collapsed": false
   },
   "outputs": [
    {
     "data": {
      "text/html": [
       "<div>\n",
       "<table border=\"1\" class=\"dataframe\">\n",
       "  <thead>\n",
       "    <tr style=\"text-align: right;\">\n",
       "      <th></th>\n",
       "      <th>service_id</th>\n",
       "      <th>trip_id</th>\n",
       "      <th>route_id</th>\n",
       "    </tr>\n",
       "  </thead>\n",
       "  <tbody>\n",
       "    <tr>\n",
       "      <th>0</th>\n",
       "      <td>1004722</td>\n",
       "      <td>21001004722</td>\n",
       "      <td>66</td>\n",
       "    </tr>\n",
       "    <tr>\n",
       "      <th>1</th>\n",
       "      <td>1004723</td>\n",
       "      <td>21001004723</td>\n",
       "      <td>66</td>\n",
       "    </tr>\n",
       "    <tr>\n",
       "      <th>2</th>\n",
       "      <td>1017818</td>\n",
       "      <td>21001017818</td>\n",
       "      <td>66</td>\n",
       "    </tr>\n",
       "    <tr>\n",
       "      <th>3</th>\n",
       "      <td>1017820</td>\n",
       "      <td>21001017820</td>\n",
       "      <td>66</td>\n",
       "    </tr>\n",
       "    <tr>\n",
       "      <th>4</th>\n",
       "      <td>1004714</td>\n",
       "      <td>21031004714</td>\n",
       "      <td>66</td>\n",
       "    </tr>\n",
       "  </tbody>\n",
       "</table>\n",
       "</div>"
      ],
      "text/plain": [
       "   service_id      trip_id  route_id\n",
       "0     1004722  21001004722        66\n",
       "1     1004723  21001004723        66\n",
       "2     1017818  21001017818        66\n",
       "3     1017820  21001017820        66\n",
       "4     1004714  21031004714        66"
      ]
     },
     "execution_count": 216,
     "metadata": {},
     "output_type": "execute_result"
    }
   ],
   "source": [
    "service_trip_id = pd.merge(calendar[['service_id']],trips[['service_id', 'trip_id', 'route_id']])\n",
    "service_trip_id.head()"
   ]
  },
  {
   "cell_type": "code",
   "execution_count": 217,
   "metadata": {
    "collapsed": false
   },
   "outputs": [
    {
     "data": {
      "text/html": [
       "<div>\n",
       "<table border=\"1\" class=\"dataframe\">\n",
       "  <thead>\n",
       "    <tr style=\"text-align: right;\">\n",
       "      <th></th>\n",
       "      <th>service_id</th>\n",
       "      <th>monday</th>\n",
       "      <th>tuesday</th>\n",
       "      <th>wednesday</th>\n",
       "      <th>thursday</th>\n",
       "      <th>friday</th>\n",
       "      <th>saturday</th>\n",
       "      <th>sunday</th>\n",
       "      <th>start_date</th>\n",
       "      <th>end_date</th>\n",
       "      <th>trip_id</th>\n",
       "      <th>route_id</th>\n",
       "    </tr>\n",
       "  </thead>\n",
       "  <tbody>\n",
       "    <tr>\n",
       "      <th>0</th>\n",
       "      <td>1004722</td>\n",
       "      <td>0</td>\n",
       "      <td>1</td>\n",
       "      <td>1</td>\n",
       "      <td>1</td>\n",
       "      <td>1</td>\n",
       "      <td>0</td>\n",
       "      <td>0</td>\n",
       "      <td>20170103</td>\n",
       "      <td>20170106</td>\n",
       "      <td>21001004722</td>\n",
       "      <td>66</td>\n",
       "    </tr>\n",
       "    <tr>\n",
       "      <th>1</th>\n",
       "      <td>1004723</td>\n",
       "      <td>1</td>\n",
       "      <td>1</td>\n",
       "      <td>1</td>\n",
       "      <td>1</td>\n",
       "      <td>1</td>\n",
       "      <td>0</td>\n",
       "      <td>0</td>\n",
       "      <td>20170109</td>\n",
       "      <td>20170113</td>\n",
       "      <td>21001004723</td>\n",
       "      <td>66</td>\n",
       "    </tr>\n",
       "    <tr>\n",
       "      <th>2</th>\n",
       "      <td>1017818</td>\n",
       "      <td>1</td>\n",
       "      <td>1</td>\n",
       "      <td>1</td>\n",
       "      <td>1</td>\n",
       "      <td>1</td>\n",
       "      <td>0</td>\n",
       "      <td>0</td>\n",
       "      <td>20170117</td>\n",
       "      <td>20170217</td>\n",
       "      <td>21001017818</td>\n",
       "      <td>66</td>\n",
       "    </tr>\n",
       "    <tr>\n",
       "      <th>3</th>\n",
       "      <td>1017820</td>\n",
       "      <td>1</td>\n",
       "      <td>1</td>\n",
       "      <td>1</td>\n",
       "      <td>1</td>\n",
       "      <td>1</td>\n",
       "      <td>0</td>\n",
       "      <td>0</td>\n",
       "      <td>20170221</td>\n",
       "      <td>20180221</td>\n",
       "      <td>21001017820</td>\n",
       "      <td>66</td>\n",
       "    </tr>\n",
       "    <tr>\n",
       "      <th>4</th>\n",
       "      <td>1004714</td>\n",
       "      <td>0</td>\n",
       "      <td>1</td>\n",
       "      <td>1</td>\n",
       "      <td>1</td>\n",
       "      <td>1</td>\n",
       "      <td>0</td>\n",
       "      <td>0</td>\n",
       "      <td>20170103</td>\n",
       "      <td>20170106</td>\n",
       "      <td>21031004714</td>\n",
       "      <td>66</td>\n",
       "    </tr>\n",
       "  </tbody>\n",
       "</table>\n",
       "</div>"
      ],
      "text/plain": [
       "   service_id  monday  tuesday  wednesday  thursday  friday  saturday  sunday  \\\n",
       "0     1004722       0        1          1         1       1         0       0   \n",
       "1     1004723       1        1          1         1       1         0       0   \n",
       "2     1017818       1        1          1         1       1         0       0   \n",
       "3     1017820       1        1          1         1       1         0       0   \n",
       "4     1004714       0        1          1         1       1         0       0   \n",
       "\n",
       "   start_date  end_date      trip_id  route_id  \n",
       "0    20170103  20170106  21001004722        66  \n",
       "1    20170109  20170113  21001004723        66  \n",
       "2    20170117  20170217  21001017818        66  \n",
       "3    20170221  20180221  21001017820        66  \n",
       "4    20170103  20170106  21031004714        66  "
      ]
     },
     "execution_count": 217,
     "metadata": {},
     "output_type": "execute_result"
    }
   ],
   "source": [
    "calendar = pd.merge(calendar,service_trip_id)\n",
    "calendar.head()"
   ]
  },
  {
   "cell_type": "code",
   "execution_count": 218,
   "metadata": {
    "collapsed": false
   },
   "outputs": [
    {
     "data": {
      "text/html": [
       "<div>\n",
       "<table border=\"1\" class=\"dataframe\">\n",
       "  <thead>\n",
       "    <tr style=\"text-align: right;\">\n",
       "      <th></th>\n",
       "      <th>service_id</th>\n",
       "      <th>monday</th>\n",
       "      <th>tuesday</th>\n",
       "      <th>wednesday</th>\n",
       "      <th>thursday</th>\n",
       "      <th>friday</th>\n",
       "      <th>saturday</th>\n",
       "      <th>sunday</th>\n",
       "      <th>start_date</th>\n",
       "      <th>end_date</th>\n",
       "      <th>trip_id</th>\n",
       "      <th>route_id</th>\n",
       "      <th>route_long_name</th>\n",
       "    </tr>\n",
       "  </thead>\n",
       "  <tbody>\n",
       "    <tr>\n",
       "      <th>0</th>\n",
       "      <td>1004722</td>\n",
       "      <td>0</td>\n",
       "      <td>1</td>\n",
       "      <td>1</td>\n",
       "      <td>1</td>\n",
       "      <td>1</td>\n",
       "      <td>0</td>\n",
       "      <td>0</td>\n",
       "      <td>20170103</td>\n",
       "      <td>20170106</td>\n",
       "      <td>21001004722</td>\n",
       "      <td>66</td>\n",
       "      <td>Acela Express</td>\n",
       "    </tr>\n",
       "    <tr>\n",
       "      <th>1</th>\n",
       "      <td>1004723</td>\n",
       "      <td>1</td>\n",
       "      <td>1</td>\n",
       "      <td>1</td>\n",
       "      <td>1</td>\n",
       "      <td>1</td>\n",
       "      <td>0</td>\n",
       "      <td>0</td>\n",
       "      <td>20170109</td>\n",
       "      <td>20170113</td>\n",
       "      <td>21001004723</td>\n",
       "      <td>66</td>\n",
       "      <td>Acela Express</td>\n",
       "    </tr>\n",
       "    <tr>\n",
       "      <th>2</th>\n",
       "      <td>1017818</td>\n",
       "      <td>1</td>\n",
       "      <td>1</td>\n",
       "      <td>1</td>\n",
       "      <td>1</td>\n",
       "      <td>1</td>\n",
       "      <td>0</td>\n",
       "      <td>0</td>\n",
       "      <td>20170117</td>\n",
       "      <td>20170217</td>\n",
       "      <td>21001017818</td>\n",
       "      <td>66</td>\n",
       "      <td>Acela Express</td>\n",
       "    </tr>\n",
       "    <tr>\n",
       "      <th>3</th>\n",
       "      <td>1017820</td>\n",
       "      <td>1</td>\n",
       "      <td>1</td>\n",
       "      <td>1</td>\n",
       "      <td>1</td>\n",
       "      <td>1</td>\n",
       "      <td>0</td>\n",
       "      <td>0</td>\n",
       "      <td>20170221</td>\n",
       "      <td>20180221</td>\n",
       "      <td>21001017820</td>\n",
       "      <td>66</td>\n",
       "      <td>Acela Express</td>\n",
       "    </tr>\n",
       "    <tr>\n",
       "      <th>4</th>\n",
       "      <td>1004714</td>\n",
       "      <td>0</td>\n",
       "      <td>1</td>\n",
       "      <td>1</td>\n",
       "      <td>1</td>\n",
       "      <td>1</td>\n",
       "      <td>0</td>\n",
       "      <td>0</td>\n",
       "      <td>20170103</td>\n",
       "      <td>20170106</td>\n",
       "      <td>21031004714</td>\n",
       "      <td>66</td>\n",
       "      <td>Acela Express</td>\n",
       "    </tr>\n",
       "  </tbody>\n",
       "</table>\n",
       "</div>"
      ],
      "text/plain": [
       "   service_id  monday  tuesday  wednesday  thursday  friday  saturday  sunday  \\\n",
       "0     1004722       0        1          1         1       1         0       0   \n",
       "1     1004723       1        1          1         1       1         0       0   \n",
       "2     1017818       1        1          1         1       1         0       0   \n",
       "3     1017820       1        1          1         1       1         0       0   \n",
       "4     1004714       0        1          1         1       1         0       0   \n",
       "\n",
       "   start_date  end_date      trip_id  route_id route_long_name  \n",
       "0    20170103  20170106  21001004722        66   Acela Express  \n",
       "1    20170109  20170113  21001004723        66   Acela Express  \n",
       "2    20170117  20170217  21001017818        66   Acela Express  \n",
       "3    20170221  20180221  21001017820        66   Acela Express  \n",
       "4    20170103  20170106  21031004714        66   Acela Express  "
      ]
     },
     "execution_count": 218,
     "metadata": {},
     "output_type": "execute_result"
    }
   ],
   "source": [
    "calendar = pd.merge(calendar, routes[['route_id','route_long_name']], on = \"route_id\")\n",
    "calendar.head()"
   ]
  },
  {
   "cell_type": "code",
   "execution_count": 219,
   "metadata": {
    "collapsed": false
   },
   "outputs": [
    {
     "data": {
      "text/plain": [
       "46"
      ]
     },
     "execution_count": 219,
     "metadata": {},
     "output_type": "execute_result"
    }
   ],
   "source": [
    "len(np.unique(routes['route_long_name']))"
   ]
  },
  {
   "cell_type": "code",
   "execution_count": 220,
   "metadata": {
    "collapsed": false
   },
   "outputs": [
    {
     "data": {
      "text/plain": [
       "array(['Acela Express', 'Adirondack', 'Amtrak Cascades',\n",
       "       'Amtrak Thruway Connecting Service', 'Auto Train', 'Blue Water',\n",
       "       'California Zephyr', 'Capitol Corridor', 'Capitol Limited',\n",
       "       'Cardinal', 'Carl Sandburg', 'Carolinian', 'City Of New Orleans',\n",
       "       'Coast Starlight', 'Crescent', 'Downeaster', 'Empire Builder',\n",
       "       'Empire Service', 'Ethan Allen Express', 'Heartland Flyer',\n",
       "       'Hiawatha Service', 'Hoosier State', 'Illini', 'Illinois Zephyr',\n",
       "       'Keystone Service', 'Lake Shore Limited', 'Lincoln Service',\n",
       "       'Maple Leaf', 'Missouri River Runner', 'Northeast Regional',\n",
       "       'Pacific Surfliner', 'Palmetto', 'Pennsylvanian', 'Pere Marquette',\n",
       "       'Piedmont', 'Saluki', 'San Joaquins', 'Shuttle', 'Silver Meteor',\n",
       "       'Silver Star', 'Southwest Chief', 'Sunset Limited',\n",
       "       'Temporary Substitute Service For Train', 'Texas Eagle',\n",
       "       'Vermonter', 'Wolverine'], dtype=object)"
      ]
     },
     "execution_count": 220,
     "metadata": {},
     "output_type": "execute_result"
    }
   ],
   "source": [
    "np.unique(routes['route_long_name'])"
   ]
  },
  {
   "cell_type": "code",
   "execution_count": 221,
   "metadata": {
    "collapsed": false
   },
   "outputs": [],
   "source": [
    "date1 = '01/5/2015' ## input date\n",
    "\n",
    "date2 = dt.datetime.strptime(date1, \"%m/%d/%Y\").date() + dt.timedelta(1)\n",
    "date3 = date2 + dt.timedelta(1)\n",
    "date4 = date3 + dt.timedelta(1)\n",
    "date5 = date4 + dt.timedelta(1)\n",
    "date6 = date5 + dt.timedelta(1)\n",
    "date7 = date6 + dt.timedelta(1)\n",
    "date8 = date7 + dt.timedelta(1)\n",
    "date9 = date8 + dt.timedelta(1)\n",
    "date10 = date9 + dt.timedelta(1)\n",
    "\n",
    "\n",
    "\n",
    "date2 = date2.strftime(\"%m/%d/%Y\")\n",
    "date3 = date3.strftime(\"%m/%d/%Y\")\n",
    "date4 = date4.strftime(\"%m/%d/%Y\")\n",
    "date5 = date5.strftime(\"%m/%d/%Y\")\n",
    "date6 = date6.strftime(\"%m/%d/%Y\")\n",
    "date7 = date7.strftime(\"%m/%d/%Y\")\n",
    "date8 = date8.strftime(\"%m/%d/%Y\")\n",
    "date9 = date9.strftime(\"%m/%d/%Y\")\n",
    "date10 = date10.strftime(\"%m/%d/%Y\")\n",
    "\n",
    "\n",
    "arbitrary_dates = [date1, date2, date3, date4]"
   ]
  },
  {
   "cell_type": "code",
   "execution_count": 222,
   "metadata": {
    "collapsed": false
   },
   "outputs": [
    {
     "data": {
      "text/plain": [
       "['01/5/2015', '01/06/2015', '01/07/2015', '01/08/2015']"
      ]
     },
     "execution_count": 222,
     "metadata": {},
     "output_type": "execute_result"
    }
   ],
   "source": [
    "arbitrary_dates"
   ]
  },
  {
   "cell_type": "code",
   "execution_count": 223,
   "metadata": {
    "collapsed": true
   },
   "outputs": [],
   "source": [
    "def add_arrival_date(df, dates = arbitrary_dates):\n",
    "    df = df.copy()\n",
    "    arrival_date = []\n",
    "    arrival_time = []\n",
    "\n",
    "    for i in df['arrival_time']:\n",
    "        hour = i[:i.find(':')]\n",
    "        minute = i[i.find(':')+1:i.find(':',4)]\n",
    "        second = i[i.find(':',5)+1:]\n",
    "        \n",
    "        if int(hour) < 24:\n",
    "            arrival_date.append(dates[0])\n",
    "            arrival_time.append(i)\n",
    "        elif 24 <= int(hour) < 48:\n",
    "            arrival_date.append(dates[1])\n",
    "            hour = int(hour) - 24\n",
    "            arrival_time.append(str(hour)+\":\"+minute+\":\"+second)\n",
    "        elif 48 <= int(hour) < 72:\n",
    "            arrival_date.append(dates[2])\n",
    "            hour = int(hour) - 48\n",
    "            arrival_time.append(str(hour)+\":\"+minute+\":\"+second)\n",
    "        elif 72 <= int(hour) < 96:\n",
    "            arrival_date.append(dates[3])\n",
    "            hour = int(hour) - 72\n",
    "            arrival_time.append(str(hour)+\":\"+minute+\":\"+second)\n",
    "        else:\n",
    "            arrival_date.append('NA')\n",
    "            \n",
    "    df['arrival_date'] = arrival_date\n",
    "    df['arrival_time'] = arrival_time\n",
    "    return df"
   ]
  },
  {
   "cell_type": "code",
   "execution_count": 224,
   "metadata": {
    "collapsed": true
   },
   "outputs": [],
   "source": [
    "def add_departure_date(df, dates = arbitrary_dates):\n",
    "    df = df.copy()\n",
    "    departure_date = []\n",
    "    departure_time = []\n",
    "\n",
    "    for i in df['departure_time']:\n",
    "        hour = i[:i.find(':')]\n",
    "        minute = i[i.find(':')+1:i.find(':',4)]\n",
    "        second = i[i.find(':',5)+1:]\n",
    "        \n",
    "        if int(hour) < 24:\n",
    "            departure_date.append(dates[0])\n",
    "            departure_time.append(i)\n",
    "        elif 24 <= int(hour) < 48:\n",
    "            departure_date.append(dates[1])\n",
    "            hour = int(hour) - 24\n",
    "            departure_time.append(str(hour)+\":\"+minute+\":\"+second)\n",
    "        elif 48 <= int(hour) < 72:\n",
    "            departure_date.append(dates[2])\n",
    "            hour = int(hour) - 48\n",
    "            departure_time.append(str(hour)+\":\"+minute+\":\"+second)\n",
    "        elif 72 <= int(hour) < 96:\n",
    "            departure_date.append(dates[3])\n",
    "            hour = int(hour) - 72\n",
    "            departure_time.append(str(hour)+\":\"+minute+\":\"+second)\n",
    "        else:\n",
    "            departure_date.append('NA')\n",
    "            \n",
    "    df['departure_date'] = departure_date\n",
    "    df['departure_time'] = departure_time\n",
    "    return df"
   ]
  },
  {
   "cell_type": "code",
   "execution_count": 225,
   "metadata": {
    "collapsed": true
   },
   "outputs": [],
   "source": [
    "monday = calendar[calendar['monday'] == 1]\n",
    "tuesday = calendar[calendar['tuesday'] == 1]\n",
    "wednesday = calendar[calendar['wednesday'] == 1]\n",
    "thursday = calendar[calendar['thursday'] == 1]\n",
    "friday = calendar[calendar['friday'] == 1]\n",
    "saturday = calendar[calendar['saturday'] == 1]\n",
    "sunday = calendar[calendar['sunday'] == 1]"
   ]
  },
  {
   "cell_type": "code",
   "execution_count": null,
   "metadata": {
    "collapsed": true
   },
   "outputs": [],
   "source": []
  },
  {
   "cell_type": "code",
   "execution_count": null,
   "metadata": {
    "collapsed": true
   },
   "outputs": [],
   "source": []
  },
  {
   "cell_type": "code",
   "execution_count": 226,
   "metadata": {
    "collapsed": true
   },
   "outputs": [],
   "source": [
    "# region_id's for color scheme\n",
    "# source: https://www.amtrak.com/ccurl/377/988/System-Timetable-040117.pdf\n",
    "\n",
    "routes_to_region = {\n",
    "    \n",
    "    'Acela Express': \"Northeast Corridor\", \n",
    "    'Adirondack': \"East\",\n",
    "    'Amtrak Cascades': \"Pacific Northwest\",\n",
    "    'Amtrak Thruway Connecting Service': \"Connecting Services\",\n",
    "    'Auto Train': \"Other\",\n",
    "    'Blue Water': \"Midwest\" ,\n",
    "    'California Zephyr': \"West\",\n",
    "    'Capitol Corridor': \"California Corridor\",\n",
    "    'Capitol Limited': \"East\",\n",
    "    'Cardinal': \"East\",\n",
    "    'Carl Sandburg': \"Midwest\", \n",
    "    'Carolinian': \"East\", \n",
    "    'City Of New Orleans': \"Midwest\",\n",
    "    'Coast Starlight': \"West\", \n",
    "    'Crescent': \"East\", \n",
    "    'Downeaster': \"Northeast Corridor\", \n",
    "    'Empire Builder': \"West\",\n",
    "    'Empire Service': \"Northeast Corridor\", \n",
    "    'Ethan Allen Express': \"East\", \n",
    "    'Heartland Flyer': \"West\",\n",
    "    'Hiawatha Service': \"Midwest\", \n",
    "    'Hoosier State': \"East\", \n",
    "    'Illini': \"Midwest\", \n",
    "    'Illinois Zephyr': \"Midwest\",\n",
    "    'Keystone Service': \"Northeast Corridor\", \n",
    "    'Lake Shore Limited': \"East\", \n",
    "    'Lincoln Service': \"Midwest\",\n",
    "    'Maple Leaf': \"Northeast Corridor\", \n",
    "    'Missouri River Runner': \"Midwest\", \n",
    "    'Northeast Regional': \"Northeast Corridor\",\n",
    "    'Pacific Surfliner': \"California Corridor\", \n",
    "    'Palmetto': \"East\", \n",
    "    'Pennsylvanian': \"East\", \n",
    "    'Pere Marquette': \"Midwest\",\n",
    "    'Piedmont': \"East\", \n",
    "    'Saluki': \"Midwest\", \n",
    "    'San Joaquins': \"California Corridor\", \n",
    "    'Shuttle': \"Shuttle\",\n",
    "    'Silver Meteor': \"East\",\n",
    "    'Silver Star': \"East\", \n",
    "    'Southwest Chief': \"West\", \n",
    "    'Sunset Limited': \"West\",\n",
    "    'Temporary Substitute Service For Train': \"Other\", \n",
    "    'Texas Eagle': \"West\",\n",
    "    'Vermonter': \"East\", \n",
    "    'Wolverine': \"Midwest\"\n",
    "    \n",
    "}\n",
    "\n",
    "routes_to_region = pd.DataFrame(routes_to_region.items(), columns = ['route_name','region_name'])"
   ]
  },
  {
   "cell_type": "code",
   "execution_count": 227,
   "metadata": {
    "collapsed": true
   },
   "outputs": [],
   "source": [
    "region_ids = {\n",
    "    \n",
    "    \"Northeast Corridor\": 1,\n",
    "    \"East\": 2,\n",
    "    \"Midwest\": 3,\n",
    "    \"West\": 4,\n",
    "    \"Pacific Northwest\": 5,\n",
    "    \"California Corridor\": 6,\n",
    "    \"Connecting Services\": 7,\n",
    "    \"Shuttle\": 8\n",
    "    \n",
    "}\n",
    "\n",
    "region_ids = pd.DataFrame(region_ids.items(), columns = [\"region_name\", \"region_id\"])"
   ]
  },
  {
   "cell_type": "markdown",
   "metadata": {},
   "source": [
    "# Monday"
   ]
  },
  {
   "cell_type": "code",
   "execution_count": 228,
   "metadata": {
    "collapsed": false
   },
   "outputs": [
    {
     "name": "stdout",
     "output_type": "stream",
     "text": [
      "There are  1393 trips on Monday\n"
     ]
    },
    {
     "data": {
      "text/plain": [
       "1    21001004723\n",
       "2    21001017818\n",
       "3    21001017820\n",
       "5    21031004715\n",
       "6    21031017814\n",
       "Name: trip_id, dtype: int64"
      ]
     },
     "execution_count": 228,
     "metadata": {},
     "output_type": "execute_result"
    }
   ],
   "source": [
    "monday_trips = monday['trip_id']\n",
    "print \"There are \", len(monday_trips), \"trips on Monday\"\n",
    "monday_trips.head()"
   ]
  },
  {
   "cell_type": "code",
   "execution_count": 229,
   "metadata": {
    "collapsed": false
   },
   "outputs": [
    {
     "data": {
      "text/plain": [
       "2368    61901020962\n",
       "2369     6048986898\n",
       "2370     6049986897\n",
       "2371     8358985998\n",
       "2372     8359985997\n",
       "Name: trip_id, dtype: int64"
      ]
     },
     "execution_count": 229,
     "metadata": {},
     "output_type": "execute_result"
    }
   ],
   "source": [
    "monday_trips.tail()"
   ]
  },
  {
   "cell_type": "code",
   "execution_count": 230,
   "metadata": {
    "collapsed": false
   },
   "outputs": [
    {
     "name": "stdout",
     "output_type": "stream",
     "text": [
      "2017-04-20 03:00:59.120137 finished trip number 100 / 1393\n",
      "2017-04-20 03:01:03.482311 finished trip number 200 / 1393\n",
      "2017-04-20 03:01:07.546904 finished trip number 300 / 1393\n",
      "2017-04-20 03:01:11.470129 finished trip number 400 / 1393\n",
      "2017-04-20 03:01:15.581183 finished trip number 500 / 1393\n",
      "2017-04-20 03:01:19.883861 finished trip number 600 / 1393\n",
      "2017-04-20 03:01:24.364359 finished trip number 700 / 1393\n",
      "2017-04-20 03:01:29.393321 finished trip number 800 / 1393\n",
      "2017-04-20 03:01:33.847757 finished trip number 900 / 1393\n",
      "2017-04-20 03:01:38.221472 finished trip number 1000 / 1393\n",
      "2017-04-20 03:01:41.951933 finished trip number 1100 / 1393\n",
      "2017-04-20 03:01:45.471566 finished trip number 1200 / 1393\n",
      "2017-04-20 03:01:48.963606 finished trip number 1300 / 1393\n"
     ]
    }
   ],
   "source": [
    "triplist = []\n",
    "count = 0\n",
    "\n",
    "for i in monday_trips:\n",
    "    count += 1\n",
    "    df = stop_times[stop_times['trip_id'] == i]\n",
    "    \n",
    "    # add arrival and departure dates\n",
    "    # add arrival and departure dates\n",
    "    df = add_arrival_date(df, dates = arbitrary_dates)\n",
    "    df = add_departure_date(df, dates = arbitrary_dates)\n",
    "    df['arrival_datetime'] = pd.to_datetime(df['arrival_date'] + ' ' + df['arrival_time'])\n",
    "    df['departure_datetime'] = pd.to_datetime(df['departure_date'] + ' ' + df['departure_time'])\n",
    "\n",
    "    # join df with stops\n",
    "    df = pd.merge(df, stops[['stop_id', 'stop_name', 'stop_lat', 'stop_lon']],left_on='stop_id', right_on='stop_id')\n",
    "\n",
    "    # join df with trips to get direction and route id\n",
    "    try:\n",
    "        df = pd.merge(df, trips[['trip_id', 'direction_id', 'route_id']], left_on='trip_id', right_on='trip_id', how='left')\n",
    "    except:\n",
    "        pass# df = pd.merge(df, trips[['trip_id', 'route_id']], left_on='trip_id', right_on='trip_id', how='left')\n",
    "\n",
    "    # join df with routes to get route id\n",
    "    try:\n",
    "        df = pd.merge(df, routes[['route_id', 'route_long_name']], left_on='route_id', right_on='route_id', how='left')\n",
    "    except:\n",
    "        pass\n",
    "\n",
    "    legs = pd.DataFrame()\n",
    "    legs['route_id'] = df['route_id']\n",
    "    legs['starttime'] = df['departure_datetime']\n",
    "    \n",
    "    try:\n",
    "        legs['stoptime'] = df['arrival_datetime'].shift(-1).fillna(method='ffill')\n",
    "        legs['tripduration'] = ((legs['stoptime'] - legs['starttime'])/np.timedelta64(1, 's')).astype(int)\n",
    "    except:\n",
    "        legs['stoptime'] = df['arrival_datetime']\n",
    "        legs['tripduration'] = ((legs['stoptime'] - legs['starttime'])/np.timedelta64(1, 's')).astype(int)\n",
    "    \n",
    "    legs['start_lat'] = df['stop_lat']\n",
    "    legs['start_lon'] = df['stop_lon']\n",
    "\n",
    "    if len(legs) > 1:\n",
    "        legs['end_lat'] = legs['start_lat'].shift(-1).fillna(method='ffill')\n",
    "        legs['end_lon'] = legs['start_lon'].shift(-1).fillna(method='ffill')\n",
    "    else:\n",
    "        legs['end_lat'] = legs['start_lat']\n",
    "        legs['end_lon'] = legs['start_lon']\n",
    "\n",
    "\n",
    "    legs['route_name'] = df['route_long_name']\n",
    "    legs['route_id'] = df['route_id']\n",
    "    \n",
    "    # append results to triplist\n",
    "    triplist.append(legs)\n",
    "    \n",
    "    if count % 100 == 0:\n",
    "        print str(dt.datetime.now()), \"finished trip number\", count, \"/\", len(monday_trips)"
   ]
  },
  {
   "cell_type": "code",
   "execution_count": 231,
   "metadata": {
    "collapsed": false
   },
   "outputs": [],
   "source": [
    "data = pd.concat(triplist)\n",
    "data = data[data.tripduration != 0]\n",
    "data = data[data.start_lat != 0]\n",
    "data = data[data.start_lon != 0]\n",
    "data = data.sort_values(by='starttime')\n",
    "data = data.reset_index(drop=True)"
   ]
  },
  {
   "cell_type": "code",
   "execution_count": 232,
   "metadata": {
    "collapsed": false
   },
   "outputs": [
    {
     "data": {
      "text/html": [
       "<div>\n",
       "<table border=\"1\" class=\"dataframe\">\n",
       "  <thead>\n",
       "    <tr style=\"text-align: right;\">\n",
       "      <th></th>\n",
       "      <th>route_id</th>\n",
       "      <th>starttime</th>\n",
       "      <th>stoptime</th>\n",
       "      <th>tripduration</th>\n",
       "      <th>start_lat</th>\n",
       "      <th>start_lon</th>\n",
       "      <th>end_lat</th>\n",
       "      <th>end_lon</th>\n",
       "      <th>route_name</th>\n",
       "    </tr>\n",
       "  </thead>\n",
       "  <tbody>\n",
       "    <tr>\n",
       "      <th>0</th>\n",
       "      <td>42</td>\n",
       "      <td>2015-01-05 03:10:00</td>\n",
       "      <td>2015-01-05 03:35:00</td>\n",
       "      <td>1500</td>\n",
       "      <td>37.840474</td>\n",
       "      <td>-122.291615</td>\n",
       "      <td>37.789232</td>\n",
       "      <td>-122.392366</td>\n",
       "      <td>Amtrak Thruway Connecting Service</td>\n",
       "    </tr>\n",
       "    <tr>\n",
       "      <th>1</th>\n",
       "      <td>88</td>\n",
       "      <td>2015-01-05 03:15:00</td>\n",
       "      <td>2015-01-05 03:38:00</td>\n",
       "      <td>1380</td>\n",
       "      <td>38.896993</td>\n",
       "      <td>-77.006422</td>\n",
       "      <td>39.192362</td>\n",
       "      <td>-76.694300</td>\n",
       "      <td>Northeast Regional</td>\n",
       "    </tr>\n",
       "    <tr>\n",
       "      <th>2</th>\n",
       "      <td>88</td>\n",
       "      <td>2015-01-05 03:15:00</td>\n",
       "      <td>2015-01-05 03:38:00</td>\n",
       "      <td>1380</td>\n",
       "      <td>38.896993</td>\n",
       "      <td>-77.006422</td>\n",
       "      <td>39.192362</td>\n",
       "      <td>-76.694300</td>\n",
       "      <td>Northeast Regional</td>\n",
       "    </tr>\n",
       "    <tr>\n",
       "      <th>3</th>\n",
       "      <td>88</td>\n",
       "      <td>2015-01-05 03:15:00</td>\n",
       "      <td>2015-01-05 03:38:00</td>\n",
       "      <td>1380</td>\n",
       "      <td>38.896993</td>\n",
       "      <td>-77.006422</td>\n",
       "      <td>39.192362</td>\n",
       "      <td>-76.694300</td>\n",
       "      <td>Northeast Regional</td>\n",
       "    </tr>\n",
       "    <tr>\n",
       "      <th>4</th>\n",
       "      <td>88</td>\n",
       "      <td>2015-01-05 03:15:00</td>\n",
       "      <td>2015-01-05 03:38:00</td>\n",
       "      <td>1380</td>\n",
       "      <td>38.896993</td>\n",
       "      <td>-77.006422</td>\n",
       "      <td>39.192362</td>\n",
       "      <td>-76.694300</td>\n",
       "      <td>Northeast Regional</td>\n",
       "    </tr>\n",
       "  </tbody>\n",
       "</table>\n",
       "</div>"
      ],
      "text/plain": [
       "   route_id           starttime            stoptime  tripduration  start_lat  \\\n",
       "0        42 2015-01-05 03:10:00 2015-01-05 03:35:00          1500  37.840474   \n",
       "1        88 2015-01-05 03:15:00 2015-01-05 03:38:00          1380  38.896993   \n",
       "2        88 2015-01-05 03:15:00 2015-01-05 03:38:00          1380  38.896993   \n",
       "3        88 2015-01-05 03:15:00 2015-01-05 03:38:00          1380  38.896993   \n",
       "4        88 2015-01-05 03:15:00 2015-01-05 03:38:00          1380  38.896993   \n",
       "\n",
       "    start_lon    end_lat     end_lon                         route_name  \n",
       "0 -122.291615  37.789232 -122.392366  Amtrak Thruway Connecting Service  \n",
       "1  -77.006422  39.192362  -76.694300                 Northeast Regional  \n",
       "2  -77.006422  39.192362  -76.694300                 Northeast Regional  \n",
       "3  -77.006422  39.192362  -76.694300                 Northeast Regional  \n",
       "4  -77.006422  39.192362  -76.694300                 Northeast Regional  "
      ]
     },
     "execution_count": 232,
     "metadata": {},
     "output_type": "execute_result"
    }
   ],
   "source": [
    "data.head(5)"
   ]
  },
  {
   "cell_type": "code",
   "execution_count": 233,
   "metadata": {
    "collapsed": false
   },
   "outputs": [
    {
     "data": {
      "text/plain": [
       "(15140, 9)"
      ]
     },
     "execution_count": 233,
     "metadata": {},
     "output_type": "execute_result"
    }
   ],
   "source": [
    "data.shape"
   ]
  },
  {
   "cell_type": "code",
   "execution_count": 234,
   "metadata": {
    "collapsed": false
   },
   "outputs": [
    {
     "data": {
      "text/plain": [
       "44"
      ]
     },
     "execution_count": 234,
     "metadata": {},
     "output_type": "execute_result"
    }
   ],
   "source": [
    "len(np.unique(data.route_name))"
   ]
  },
  {
   "cell_type": "code",
   "execution_count": null,
   "metadata": {
    "collapsed": true
   },
   "outputs": [],
   "source": []
  },
  {
   "cell_type": "code",
   "execution_count": 235,
   "metadata": {
    "collapsed": false
   },
   "outputs": [
    {
     "data": {
      "text/plain": [
       "array(['Acela Express', 'Adirondack', 'Amtrak Cascades',\n",
       "       'Amtrak Thruway Connecting Service', 'Auto Train', 'Blue Water',\n",
       "       'California Zephyr', 'Capitol Corridor', 'Capitol Limited',\n",
       "       'Carl Sandburg', 'Carolinian', 'City Of New Orleans',\n",
       "       'Coast Starlight', 'Crescent', 'Downeaster', 'Empire Builder',\n",
       "       'Empire Service', 'Ethan Allen Express', 'Heartland Flyer',\n",
       "       'Hiawatha Service', 'Hoosier State', 'Illini', 'Illinois Zephyr',\n",
       "       'Keystone Service', 'Lake Shore Limited', 'Lincoln Service',\n",
       "       'Maple Leaf', 'Missouri River Runner', 'Northeast Regional',\n",
       "       'Pacific Surfliner', 'Palmetto', 'Pennsylvanian', 'Pere Marquette',\n",
       "       'Piedmont', 'Saluki', 'San Joaquins', 'Shuttle', 'Silver Meteor',\n",
       "       'Silver Star', 'Southwest Chief',\n",
       "       'Temporary Substitute Service For Train', 'Texas Eagle',\n",
       "       'Vermonter', 'Wolverine'], dtype=object)"
      ]
     },
     "execution_count": 235,
     "metadata": {},
     "output_type": "execute_result"
    }
   ],
   "source": [
    "np.unique(data.route_name)"
   ]
  },
  {
   "cell_type": "code",
   "execution_count": null,
   "metadata": {
    "collapsed": false
   },
   "outputs": [],
   "source": []
  },
  {
   "cell_type": "code",
   "execution_count": 236,
   "metadata": {
    "collapsed": false
   },
   "outputs": [],
   "source": [
    "data = pd.merge(data, routes_to_region)"
   ]
  },
  {
   "cell_type": "code",
   "execution_count": 237,
   "metadata": {
    "collapsed": false
   },
   "outputs": [],
   "source": [
    "data = pd.merge(data, region_ids)"
   ]
  },
  {
   "cell_type": "code",
   "execution_count": 238,
   "metadata": {
    "collapsed": true
   },
   "outputs": [],
   "source": [
    "data.to_csv(\"amtrak_1_monday.csv\")"
   ]
  },
  {
   "cell_type": "code",
   "execution_count": 239,
   "metadata": {
    "collapsed": false
   },
   "outputs": [
    {
     "data": {
      "text/html": [
       "<div>\n",
       "<table border=\"1\" class=\"dataframe\">\n",
       "  <thead>\n",
       "    <tr style=\"text-align: right;\">\n",
       "      <th></th>\n",
       "      <th>route_id</th>\n",
       "      <th>starttime</th>\n",
       "      <th>stoptime</th>\n",
       "      <th>tripduration</th>\n",
       "      <th>start_lat</th>\n",
       "      <th>start_lon</th>\n",
       "      <th>end_lat</th>\n",
       "      <th>end_lon</th>\n",
       "      <th>route_name</th>\n",
       "      <th>region_name</th>\n",
       "      <th>region_id</th>\n",
       "    </tr>\n",
       "  </thead>\n",
       "  <tbody>\n",
       "    <tr>\n",
       "      <th>0</th>\n",
       "      <td>42</td>\n",
       "      <td>2015-01-05 03:10:00</td>\n",
       "      <td>2015-01-05 03:35:00</td>\n",
       "      <td>1500</td>\n",
       "      <td>37.840474</td>\n",
       "      <td>-122.291615</td>\n",
       "      <td>37.789232</td>\n",
       "      <td>-122.392366</td>\n",
       "      <td>Amtrak Thruway Connecting Service</td>\n",
       "      <td>Connecting Services</td>\n",
       "      <td>7</td>\n",
       "    </tr>\n",
       "    <tr>\n",
       "      <th>1</th>\n",
       "      <td>42</td>\n",
       "      <td>2015-01-05 04:25:00</td>\n",
       "      <td>2015-01-05 04:45:00</td>\n",
       "      <td>1200</td>\n",
       "      <td>33.656771</td>\n",
       "      <td>-117.733695</td>\n",
       "      <td>33.751629</td>\n",
       "      <td>-117.856607</td>\n",
       "      <td>Amtrak Thruway Connecting Service</td>\n",
       "      <td>Connecting Services</td>\n",
       "      <td>7</td>\n",
       "    </tr>\n",
       "    <tr>\n",
       "      <th>2</th>\n",
       "      <td>42</td>\n",
       "      <td>2015-01-05 04:45:00</td>\n",
       "      <td>2015-01-05 05:05:00</td>\n",
       "      <td>1200</td>\n",
       "      <td>33.751629</td>\n",
       "      <td>-117.856607</td>\n",
       "      <td>33.868969</td>\n",
       "      <td>-117.922849</td>\n",
       "      <td>Amtrak Thruway Connecting Service</td>\n",
       "      <td>Connecting Services</td>\n",
       "      <td>7</td>\n",
       "    </tr>\n",
       "    <tr>\n",
       "      <th>3</th>\n",
       "      <td>42</td>\n",
       "      <td>2015-01-05 04:45:00</td>\n",
       "      <td>2015-01-05 05:05:00</td>\n",
       "      <td>1200</td>\n",
       "      <td>33.751629</td>\n",
       "      <td>-117.856607</td>\n",
       "      <td>33.868969</td>\n",
       "      <td>-117.922849</td>\n",
       "      <td>Amtrak Thruway Connecting Service</td>\n",
       "      <td>Connecting Services</td>\n",
       "      <td>7</td>\n",
       "    </tr>\n",
       "    <tr>\n",
       "      <th>4</th>\n",
       "      <td>42</td>\n",
       "      <td>2015-01-05 04:45:00</td>\n",
       "      <td>2015-01-05 05:05:00</td>\n",
       "      <td>1200</td>\n",
       "      <td>33.751629</td>\n",
       "      <td>-117.856607</td>\n",
       "      <td>33.868969</td>\n",
       "      <td>-117.922849</td>\n",
       "      <td>Amtrak Thruway Connecting Service</td>\n",
       "      <td>Connecting Services</td>\n",
       "      <td>7</td>\n",
       "    </tr>\n",
       "  </tbody>\n",
       "</table>\n",
       "</div>"
      ],
      "text/plain": [
       "   route_id           starttime            stoptime  tripduration  start_lat  \\\n",
       "0        42 2015-01-05 03:10:00 2015-01-05 03:35:00          1500  37.840474   \n",
       "1        42 2015-01-05 04:25:00 2015-01-05 04:45:00          1200  33.656771   \n",
       "2        42 2015-01-05 04:45:00 2015-01-05 05:05:00          1200  33.751629   \n",
       "3        42 2015-01-05 04:45:00 2015-01-05 05:05:00          1200  33.751629   \n",
       "4        42 2015-01-05 04:45:00 2015-01-05 05:05:00          1200  33.751629   \n",
       "\n",
       "    start_lon    end_lat     end_lon                         route_name  \\\n",
       "0 -122.291615  37.789232 -122.392366  Amtrak Thruway Connecting Service   \n",
       "1 -117.733695  33.751629 -117.856607  Amtrak Thruway Connecting Service   \n",
       "2 -117.856607  33.868969 -117.922849  Amtrak Thruway Connecting Service   \n",
       "3 -117.856607  33.868969 -117.922849  Amtrak Thruway Connecting Service   \n",
       "4 -117.856607  33.868969 -117.922849  Amtrak Thruway Connecting Service   \n",
       "\n",
       "           region_name  region_id  \n",
       "0  Connecting Services          7  \n",
       "1  Connecting Services          7  \n",
       "2  Connecting Services          7  \n",
       "3  Connecting Services          7  \n",
       "4  Connecting Services          7  "
      ]
     },
     "execution_count": 239,
     "metadata": {},
     "output_type": "execute_result"
    }
   ],
   "source": [
    "data.head()"
   ]
  },
  {
   "cell_type": "markdown",
   "metadata": {},
   "source": [
    "# Tuesday"
   ]
  },
  {
   "cell_type": "code",
   "execution_count": 240,
   "metadata": {
    "collapsed": false
   },
   "outputs": [
    {
     "name": "stdout",
     "output_type": "stream",
     "text": [
      "There are  1218 trips on Tuesday\n"
     ]
    },
    {
     "data": {
      "text/plain": [
       "0    21001004722\n",
       "1    21001004723\n",
       "2    21001017818\n",
       "3    21001017820\n",
       "4    21031004714\n",
       "Name: trip_id, dtype: int64"
      ]
     },
     "execution_count": 240,
     "metadata": {},
     "output_type": "execute_result"
    }
   ],
   "source": [
    "tuesday_trips = tuesday['trip_id']\n",
    "print \"There are \", len(tuesday_trips), \"trips on Tuesday\"\n",
    "tuesday_trips.head()"
   ]
  },
  {
   "cell_type": "code",
   "execution_count": 241,
   "metadata": {
    "collapsed": true
   },
   "outputs": [],
   "source": [
    "arbitrary_dates = [date2, date3, date4, date5]"
   ]
  },
  {
   "cell_type": "code",
   "execution_count": 242,
   "metadata": {
    "collapsed": false
   },
   "outputs": [
    {
     "name": "stdout",
     "output_type": "stream",
     "text": [
      "2017-04-20 03:01:58.322557 finished trip number 100 / 1393\n",
      "2017-04-20 03:02:03.223324 finished trip number 200 / 1393\n",
      "2017-04-20 03:02:07.997436 finished trip number 300 / 1393\n",
      "2017-04-20 03:02:11.686627 finished trip number 400 / 1393\n",
      "2017-04-20 03:02:16.181035 finished trip number 500 / 1393\n",
      "2017-04-20 03:02:20.764918 finished trip number 600 / 1393\n",
      "2017-04-20 03:02:24.736653 finished trip number 700 / 1393\n",
      "2017-04-20 03:02:29.546869 finished trip number 800 / 1393\n",
      "2017-04-20 03:02:33.612724 finished trip number 900 / 1393\n",
      "2017-04-20 03:02:37.012665 finished trip number 1000 / 1393\n",
      "2017-04-20 03:02:40.877325 finished trip number 1100 / 1393\n",
      "2017-04-20 03:02:44.314869 finished trip number 1200 / 1393\n"
     ]
    }
   ],
   "source": [
    "triplist = []\n",
    "count = 0\n",
    "\n",
    "for i in tuesday_trips:\n",
    "    count += 1\n",
    "    df = stop_times[stop_times['trip_id'] == i]\n",
    "    \n",
    "    # add arrival and departure dates\n",
    "    # add arrival and departure dates\n",
    "    df = add_arrival_date(df, dates = arbitrary_dates)\n",
    "    df = add_departure_date(df, dates = arbitrary_dates)\n",
    "    df['arrival_datetime'] = pd.to_datetime(df['arrival_date'] + ' ' + df['arrival_time'])\n",
    "    df['departure_datetime'] = pd.to_datetime(df['departure_date'] + ' ' + df['departure_time'])\n",
    "\n",
    "    # join df with stops\n",
    "    df = pd.merge(df, stops[['stop_id', 'stop_name', 'stop_lat', 'stop_lon']],left_on='stop_id', right_on='stop_id')\n",
    "\n",
    "    # join df with trips to get direction and route id\n",
    "    try:\n",
    "        df = pd.merge(df, trips[['trip_id', 'direction_id', 'route_id']], left_on='trip_id', right_on='trip_id', how='left')\n",
    "    except:\n",
    "        pass# df = pd.merge(df, trips[['trip_id', 'route_id']], left_on='trip_id', right_on='trip_id', how='left')\n",
    "\n",
    "    # join df with routes to get route id\n",
    "    try:\n",
    "        df = pd.merge(df, routes[['route_id', 'route_long_name']], left_on='route_id', right_on='route_id', how='left')\n",
    "    except:\n",
    "        pass\n",
    "\n",
    "    legs = pd.DataFrame()\n",
    "    legs['route_id'] = df['route_id']\n",
    "    legs['starttime'] = df['departure_datetime']\n",
    "    \n",
    "    try:\n",
    "        legs['stoptime'] = df['arrival_datetime'].shift(-1).fillna(method='ffill')\n",
    "        legs['tripduration'] = ((legs['stoptime'] - legs['starttime'])/np.timedelta64(1, 's')).astype(int)\n",
    "    except:\n",
    "        legs['stoptime'] = df['arrival_datetime']\n",
    "        legs['tripduration'] = ((legs['stoptime'] - legs['starttime'])/np.timedelta64(1, 's')).astype(int)\n",
    "    \n",
    "    legs['start_lat'] = df['stop_lat']\n",
    "    legs['start_lon'] = df['stop_lon']\n",
    "\n",
    "    if len(legs) > 1:\n",
    "        legs['end_lat'] = legs['start_lat'].shift(-1).fillna(method='ffill')\n",
    "        legs['end_lon'] = legs['start_lon'].shift(-1).fillna(method='ffill')\n",
    "    else:\n",
    "        legs['end_lat'] = legs['start_lat']\n",
    "        legs['end_lon'] = legs['start_lon']\n",
    "\n",
    "\n",
    "    legs['route_name'] = df['route_long_name']\n",
    "    legs['route_id'] = df['route_id']\n",
    "    \n",
    "    # append results to triplist\n",
    "    triplist.append(legs)\n",
    "    \n",
    "    if count % 100 == 0:\n",
    "        print str(dt.datetime.now()), \"finished trip number\", count, \"/\", len(monday_trips)"
   ]
  },
  {
   "cell_type": "code",
   "execution_count": 243,
   "metadata": {
    "collapsed": true
   },
   "outputs": [],
   "source": [
    "data = pd.concat(triplist)\n",
    "data = data[data.tripduration != 0]\n",
    "data = data[data.start_lat != 0]\n",
    "data = data[data.start_lon != 0]\n",
    "data = data.sort_values(by='starttime')\n",
    "data = data.reset_index(drop=True)\n",
    "\n",
    "data = pd.merge(data, routes_to_region)\n",
    "data = pd.merge(data, region_ids)"
   ]
  },
  {
   "cell_type": "code",
   "execution_count": 244,
   "metadata": {
    "collapsed": false
   },
   "outputs": [
    {
     "data": {
      "text/html": [
       "<div>\n",
       "<table border=\"1\" class=\"dataframe\">\n",
       "  <thead>\n",
       "    <tr style=\"text-align: right;\">\n",
       "      <th></th>\n",
       "      <th>route_id</th>\n",
       "      <th>starttime</th>\n",
       "      <th>stoptime</th>\n",
       "      <th>tripduration</th>\n",
       "      <th>start_lat</th>\n",
       "      <th>start_lon</th>\n",
       "      <th>end_lat</th>\n",
       "      <th>end_lon</th>\n",
       "      <th>route_name</th>\n",
       "      <th>region_name</th>\n",
       "      <th>region_id</th>\n",
       "    </tr>\n",
       "  </thead>\n",
       "  <tbody>\n",
       "    <tr>\n",
       "      <th>0</th>\n",
       "      <td>42</td>\n",
       "      <td>2015-01-06 03:10:00</td>\n",
       "      <td>2015-01-06 03:35:00</td>\n",
       "      <td>1500</td>\n",
       "      <td>37.840474</td>\n",
       "      <td>-122.291615</td>\n",
       "      <td>37.789232</td>\n",
       "      <td>-122.392366</td>\n",
       "      <td>Amtrak Thruway Connecting Service</td>\n",
       "      <td>Connecting Services</td>\n",
       "      <td>7</td>\n",
       "    </tr>\n",
       "    <tr>\n",
       "      <th>1</th>\n",
       "      <td>42</td>\n",
       "      <td>2015-01-06 04:45:00</td>\n",
       "      <td>2015-01-06 05:05:00</td>\n",
       "      <td>1200</td>\n",
       "      <td>33.751629</td>\n",
       "      <td>-117.856607</td>\n",
       "      <td>33.868969</td>\n",
       "      <td>-117.922849</td>\n",
       "      <td>Amtrak Thruway Connecting Service</td>\n",
       "      <td>Connecting Services</td>\n",
       "      <td>7</td>\n",
       "    </tr>\n",
       "    <tr>\n",
       "      <th>2</th>\n",
       "      <td>42</td>\n",
       "      <td>2015-01-06 04:45:00</td>\n",
       "      <td>2015-01-06 05:05:00</td>\n",
       "      <td>1200</td>\n",
       "      <td>33.751629</td>\n",
       "      <td>-117.856607</td>\n",
       "      <td>33.868969</td>\n",
       "      <td>-117.922849</td>\n",
       "      <td>Amtrak Thruway Connecting Service</td>\n",
       "      <td>Connecting Services</td>\n",
       "      <td>7</td>\n",
       "    </tr>\n",
       "    <tr>\n",
       "      <th>3</th>\n",
       "      <td>12</td>\n",
       "      <td>2015-01-06 05:00:00</td>\n",
       "      <td>2015-01-06 07:00:00</td>\n",
       "      <td>7200</td>\n",
       "      <td>37.724235</td>\n",
       "      <td>-89.216628</td>\n",
       "      <td>38.624461</td>\n",
       "      <td>-90.203838</td>\n",
       "      <td>Amtrak Thruway Connecting Service</td>\n",
       "      <td>Connecting Services</td>\n",
       "      <td>7</td>\n",
       "    </tr>\n",
       "    <tr>\n",
       "      <th>4</th>\n",
       "      <td>42</td>\n",
       "      <td>2015-01-06 05:05:00</td>\n",
       "      <td>2015-01-06 05:45:00</td>\n",
       "      <td>2400</td>\n",
       "      <td>33.868969</td>\n",
       "      <td>-117.922849</td>\n",
       "      <td>34.056177</td>\n",
       "      <td>-118.236778</td>\n",
       "      <td>Amtrak Thruway Connecting Service</td>\n",
       "      <td>Connecting Services</td>\n",
       "      <td>7</td>\n",
       "    </tr>\n",
       "  </tbody>\n",
       "</table>\n",
       "</div>"
      ],
      "text/plain": [
       "   route_id           starttime            stoptime  tripduration  start_lat  \\\n",
       "0        42 2015-01-06 03:10:00 2015-01-06 03:35:00          1500  37.840474   \n",
       "1        42 2015-01-06 04:45:00 2015-01-06 05:05:00          1200  33.751629   \n",
       "2        42 2015-01-06 04:45:00 2015-01-06 05:05:00          1200  33.751629   \n",
       "3        12 2015-01-06 05:00:00 2015-01-06 07:00:00          7200  37.724235   \n",
       "4        42 2015-01-06 05:05:00 2015-01-06 05:45:00          2400  33.868969   \n",
       "\n",
       "    start_lon    end_lat     end_lon                         route_name  \\\n",
       "0 -122.291615  37.789232 -122.392366  Amtrak Thruway Connecting Service   \n",
       "1 -117.856607  33.868969 -117.922849  Amtrak Thruway Connecting Service   \n",
       "2 -117.856607  33.868969 -117.922849  Amtrak Thruway Connecting Service   \n",
       "3  -89.216628  38.624461  -90.203838  Amtrak Thruway Connecting Service   \n",
       "4 -117.922849  34.056177 -118.236778  Amtrak Thruway Connecting Service   \n",
       "\n",
       "           region_name  region_id  \n",
       "0  Connecting Services          7  \n",
       "1  Connecting Services          7  \n",
       "2  Connecting Services          7  \n",
       "3  Connecting Services          7  \n",
       "4  Connecting Services          7  "
      ]
     },
     "execution_count": 244,
     "metadata": {},
     "output_type": "execute_result"
    }
   ],
   "source": [
    "data.head()"
   ]
  },
  {
   "cell_type": "code",
   "execution_count": 246,
   "metadata": {
    "collapsed": true
   },
   "outputs": [],
   "source": [
    "data.to_csv(\"amtrak_2_tuesday.csv\")"
   ]
  },
  {
   "cell_type": "markdown",
   "metadata": {},
   "source": [
    "# Wednesday"
   ]
  },
  {
   "cell_type": "code",
   "execution_count": 247,
   "metadata": {
    "collapsed": false
   },
   "outputs": [
    {
     "name": "stdout",
     "output_type": "stream",
     "text": [
      "There are  1257 trips on Wednesday\n"
     ]
    },
    {
     "data": {
      "text/plain": [
       "0    21001004722\n",
       "1    21001004723\n",
       "2    21001017818\n",
       "3    21001017820\n",
       "4    21031004714\n",
       "Name: trip_id, dtype: int64"
      ]
     },
     "execution_count": 247,
     "metadata": {},
     "output_type": "execute_result"
    }
   ],
   "source": [
    "wednesday_trips = wednesday['trip_id']\n",
    "print \"There are \", len(wednesday_trips), \"trips on Wednesday\"\n",
    "wednesday_trips.head()"
   ]
  },
  {
   "cell_type": "code",
   "execution_count": 248,
   "metadata": {
    "collapsed": true
   },
   "outputs": [],
   "source": [
    "arbitrary_dates = [date3, date4, date5, date6]"
   ]
  },
  {
   "cell_type": "code",
   "execution_count": 249,
   "metadata": {
    "collapsed": false
   },
   "outputs": [
    {
     "name": "stdout",
     "output_type": "stream",
     "text": [
      "2017-04-20 03:02:51.629979 finished trip number 100 / 1393\n",
      "2017-04-20 03:02:55.794049 finished trip number 200 / 1393\n",
      "2017-04-20 03:03:01.385338 finished trip number 300 / 1393\n",
      "2017-04-20 03:03:06.403620 finished trip number 400 / 1393\n",
      "2017-04-20 03:03:11.170174 finished trip number 500 / 1393\n",
      "2017-04-20 03:03:16.247349 finished trip number 600 / 1393\n",
      "2017-04-20 03:03:21.415049 finished trip number 700 / 1393\n",
      "2017-04-20 03:03:26.682338 finished trip number 800 / 1393\n",
      "2017-04-20 03:03:31.233095 finished trip number 900 / 1393\n",
      "2017-04-20 03:03:35.327000 finished trip number 1000 / 1393\n",
      "2017-04-20 03:03:39.402510 finished trip number 1100 / 1393\n",
      "2017-04-20 03:03:43.362911 finished trip number 1200 / 1393\n"
     ]
    }
   ],
   "source": [
    "triplist = []\n",
    "count = 0\n",
    "\n",
    "for i in wednesday_trips:\n",
    "    count += 1\n",
    "    df = stop_times[stop_times['trip_id'] == i]\n",
    "    \n",
    "    # add arrival and departure dates\n",
    "    # add arrival and departure dates\n",
    "    df = add_arrival_date(df, dates = arbitrary_dates)\n",
    "    df = add_departure_date(df, dates = arbitrary_dates)\n",
    "    df['arrival_datetime'] = pd.to_datetime(df['arrival_date'] + ' ' + df['arrival_time'])\n",
    "    df['departure_datetime'] = pd.to_datetime(df['departure_date'] + ' ' + df['departure_time'])\n",
    "\n",
    "    # join df with stops\n",
    "    df = pd.merge(df, stops[['stop_id', 'stop_name', 'stop_lat', 'stop_lon']],left_on='stop_id', right_on='stop_id')\n",
    "\n",
    "    # join df with trips to get direction and route id\n",
    "    try:\n",
    "        df = pd.merge(df, trips[['trip_id', 'direction_id', 'route_id']], left_on='trip_id', right_on='trip_id', how='left')\n",
    "    except:\n",
    "        pass# df = pd.merge(df, trips[['trip_id', 'route_id']], left_on='trip_id', right_on='trip_id', how='left')\n",
    "\n",
    "    # join df with routes to get route id\n",
    "    try:\n",
    "        df = pd.merge(df, routes[['route_id', 'route_long_name']], left_on='route_id', right_on='route_id', how='left')\n",
    "    except:\n",
    "        pass\n",
    "\n",
    "    legs = pd.DataFrame()\n",
    "    legs['route_id'] = df['route_id']\n",
    "    legs['starttime'] = df['departure_datetime']\n",
    "    \n",
    "    try:\n",
    "        legs['stoptime'] = df['arrival_datetime'].shift(-1).fillna(method='ffill')\n",
    "        legs['tripduration'] = ((legs['stoptime'] - legs['starttime'])/np.timedelta64(1, 's')).astype(int)\n",
    "    except:\n",
    "        legs['stoptime'] = df['arrival_datetime']\n",
    "        legs['tripduration'] = ((legs['stoptime'] - legs['starttime'])/np.timedelta64(1, 's')).astype(int)\n",
    "    \n",
    "    legs['start_lat'] = df['stop_lat']\n",
    "    legs['start_lon'] = df['stop_lon']\n",
    "\n",
    "    if len(legs) > 1:\n",
    "        legs['end_lat'] = legs['start_lat'].shift(-1).fillna(method='ffill')\n",
    "        legs['end_lon'] = legs['start_lon'].shift(-1).fillna(method='ffill')\n",
    "    else:\n",
    "        legs['end_lat'] = legs['start_lat']\n",
    "        legs['end_lon'] = legs['start_lon']\n",
    "\n",
    "\n",
    "    legs['route_name'] = df['route_long_name']\n",
    "    legs['route_id'] = df['route_id']\n",
    "    \n",
    "    # append results to triplist\n",
    "    triplist.append(legs)\n",
    "    \n",
    "    if count % 100 == 0:\n",
    "        print str(dt.datetime.now()), \"finished trip number\", count, \"/\", len(monday_trips)"
   ]
  },
  {
   "cell_type": "code",
   "execution_count": 250,
   "metadata": {
    "collapsed": true
   },
   "outputs": [],
   "source": [
    "data = pd.concat(triplist)\n",
    "data = data[data.tripduration != 0]\n",
    "data = data[data.start_lat != 0]\n",
    "data = data[data.start_lon != 0]\n",
    "data = data.sort_values(by='starttime')\n",
    "data = data.reset_index(drop=True)\n",
    "\n",
    "data = pd.merge(data, routes_to_region)\n",
    "data = pd.merge(data, region_ids)"
   ]
  },
  {
   "cell_type": "code",
   "execution_count": 251,
   "metadata": {
    "collapsed": false
   },
   "outputs": [
    {
     "data": {
      "text/html": [
       "<div>\n",
       "<table border=\"1\" class=\"dataframe\">\n",
       "  <thead>\n",
       "    <tr style=\"text-align: right;\">\n",
       "      <th></th>\n",
       "      <th>route_id</th>\n",
       "      <th>starttime</th>\n",
       "      <th>stoptime</th>\n",
       "      <th>tripduration</th>\n",
       "      <th>start_lat</th>\n",
       "      <th>start_lon</th>\n",
       "      <th>end_lat</th>\n",
       "      <th>end_lon</th>\n",
       "      <th>route_name</th>\n",
       "      <th>region_name</th>\n",
       "      <th>region_id</th>\n",
       "    </tr>\n",
       "  </thead>\n",
       "  <tbody>\n",
       "    <tr>\n",
       "      <th>0</th>\n",
       "      <td>42</td>\n",
       "      <td>2015-01-07 03:10:00</td>\n",
       "      <td>2015-01-07 03:35:00</td>\n",
       "      <td>1500</td>\n",
       "      <td>37.840474</td>\n",
       "      <td>-122.291615</td>\n",
       "      <td>37.789232</td>\n",
       "      <td>-122.392366</td>\n",
       "      <td>Amtrak Thruway Connecting Service</td>\n",
       "      <td>Connecting Services</td>\n",
       "      <td>7</td>\n",
       "    </tr>\n",
       "    <tr>\n",
       "      <th>1</th>\n",
       "      <td>42</td>\n",
       "      <td>2015-01-07 04:45:00</td>\n",
       "      <td>2015-01-07 05:05:00</td>\n",
       "      <td>1200</td>\n",
       "      <td>33.751629</td>\n",
       "      <td>-117.856607</td>\n",
       "      <td>33.868969</td>\n",
       "      <td>-117.922849</td>\n",
       "      <td>Amtrak Thruway Connecting Service</td>\n",
       "      <td>Connecting Services</td>\n",
       "      <td>7</td>\n",
       "    </tr>\n",
       "    <tr>\n",
       "      <th>2</th>\n",
       "      <td>42</td>\n",
       "      <td>2015-01-07 04:45:00</td>\n",
       "      <td>2015-01-07 05:05:00</td>\n",
       "      <td>1200</td>\n",
       "      <td>33.751629</td>\n",
       "      <td>-117.856607</td>\n",
       "      <td>33.868969</td>\n",
       "      <td>-117.922849</td>\n",
       "      <td>Amtrak Thruway Connecting Service</td>\n",
       "      <td>Connecting Services</td>\n",
       "      <td>7</td>\n",
       "    </tr>\n",
       "    <tr>\n",
       "      <th>3</th>\n",
       "      <td>12</td>\n",
       "      <td>2015-01-07 05:00:00</td>\n",
       "      <td>2015-01-07 07:00:00</td>\n",
       "      <td>7200</td>\n",
       "      <td>37.724235</td>\n",
       "      <td>-89.216628</td>\n",
       "      <td>38.624461</td>\n",
       "      <td>-90.203838</td>\n",
       "      <td>Amtrak Thruway Connecting Service</td>\n",
       "      <td>Connecting Services</td>\n",
       "      <td>7</td>\n",
       "    </tr>\n",
       "    <tr>\n",
       "      <th>4</th>\n",
       "      <td>42</td>\n",
       "      <td>2015-01-07 05:05:00</td>\n",
       "      <td>2015-01-07 05:45:00</td>\n",
       "      <td>2400</td>\n",
       "      <td>33.868969</td>\n",
       "      <td>-117.922849</td>\n",
       "      <td>34.056177</td>\n",
       "      <td>-118.236778</td>\n",
       "      <td>Amtrak Thruway Connecting Service</td>\n",
       "      <td>Connecting Services</td>\n",
       "      <td>7</td>\n",
       "    </tr>\n",
       "  </tbody>\n",
       "</table>\n",
       "</div>"
      ],
      "text/plain": [
       "   route_id           starttime            stoptime  tripduration  start_lat  \\\n",
       "0        42 2015-01-07 03:10:00 2015-01-07 03:35:00          1500  37.840474   \n",
       "1        42 2015-01-07 04:45:00 2015-01-07 05:05:00          1200  33.751629   \n",
       "2        42 2015-01-07 04:45:00 2015-01-07 05:05:00          1200  33.751629   \n",
       "3        12 2015-01-07 05:00:00 2015-01-07 07:00:00          7200  37.724235   \n",
       "4        42 2015-01-07 05:05:00 2015-01-07 05:45:00          2400  33.868969   \n",
       "\n",
       "    start_lon    end_lat     end_lon                         route_name  \\\n",
       "0 -122.291615  37.789232 -122.392366  Amtrak Thruway Connecting Service   \n",
       "1 -117.856607  33.868969 -117.922849  Amtrak Thruway Connecting Service   \n",
       "2 -117.856607  33.868969 -117.922849  Amtrak Thruway Connecting Service   \n",
       "3  -89.216628  38.624461  -90.203838  Amtrak Thruway Connecting Service   \n",
       "4 -117.922849  34.056177 -118.236778  Amtrak Thruway Connecting Service   \n",
       "\n",
       "           region_name  region_id  \n",
       "0  Connecting Services          7  \n",
       "1  Connecting Services          7  \n",
       "2  Connecting Services          7  \n",
       "3  Connecting Services          7  \n",
       "4  Connecting Services          7  "
      ]
     },
     "execution_count": 251,
     "metadata": {},
     "output_type": "execute_result"
    }
   ],
   "source": [
    "data.head()"
   ]
  },
  {
   "cell_type": "code",
   "execution_count": 253,
   "metadata": {
    "collapsed": true
   },
   "outputs": [],
   "source": [
    "data.to_csv(\"amtrak_3_wednesday.csv\")"
   ]
  },
  {
   "cell_type": "markdown",
   "metadata": {},
   "source": [
    "# Thursday"
   ]
  },
  {
   "cell_type": "code",
   "execution_count": 254,
   "metadata": {
    "collapsed": false
   },
   "outputs": [
    {
     "name": "stdout",
     "output_type": "stream",
     "text": [
      "There are  1289 trips on Thursday\n"
     ]
    },
    {
     "data": {
      "text/plain": [
       "0    21001004722\n",
       "1    21001004723\n",
       "2    21001017818\n",
       "3    21001017820\n",
       "4    21031004714\n",
       "Name: trip_id, dtype: int64"
      ]
     },
     "execution_count": 254,
     "metadata": {},
     "output_type": "execute_result"
    }
   ],
   "source": [
    "thursday_trips = thursday['trip_id']\n",
    "print \"There are \", len(thursday_trips), \"trips on Thursday\"\n",
    "thursday_trips.head()"
   ]
  },
  {
   "cell_type": "code",
   "execution_count": 255,
   "metadata": {
    "collapsed": true
   },
   "outputs": [],
   "source": [
    "arbitrary_dates = [date4, date5, date6, date7]"
   ]
  },
  {
   "cell_type": "code",
   "execution_count": 256,
   "metadata": {
    "collapsed": false
   },
   "outputs": [
    {
     "name": "stdout",
     "output_type": "stream",
     "text": [
      "2017-04-20 03:03:55.014378 finished trip number 100 / 1393\n",
      "2017-04-20 03:04:00.815803 finished trip number 200 / 1393\n",
      "2017-04-20 03:04:06.530194 finished trip number 300 / 1393\n",
      "2017-04-20 03:04:13.020724 finished trip number 400 / 1393\n",
      "2017-04-20 03:04:18.928214 finished trip number 500 / 1393\n",
      "2017-04-20 03:04:25.632990 finished trip number 600 / 1393\n",
      "2017-04-20 03:04:30.495823 finished trip number 700 / 1393\n",
      "2017-04-20 03:04:36.340360 finished trip number 800 / 1393\n",
      "2017-04-20 03:04:41.692179 finished trip number 900 / 1393\n",
      "2017-04-20 03:04:45.455608 finished trip number 1000 / 1393\n",
      "2017-04-20 03:04:49.055020 finished trip number 1100 / 1393\n",
      "2017-04-20 03:04:52.583377 finished trip number 1200 / 1393\n"
     ]
    }
   ],
   "source": [
    "triplist = []\n",
    "count = 0\n",
    "\n",
    "for i in thursday_trips:\n",
    "    count += 1\n",
    "    df = stop_times[stop_times['trip_id'] == i]\n",
    "    \n",
    "    # add arrival and departure dates\n",
    "    # add arrival and departure dates\n",
    "    df = add_arrival_date(df, dates = arbitrary_dates)\n",
    "    df = add_departure_date(df, dates = arbitrary_dates)\n",
    "    df['arrival_datetime'] = pd.to_datetime(df['arrival_date'] + ' ' + df['arrival_time'])\n",
    "    df['departure_datetime'] = pd.to_datetime(df['departure_date'] + ' ' + df['departure_time'])\n",
    "\n",
    "    # join df with stops\n",
    "    df = pd.merge(df, stops[['stop_id', 'stop_name', 'stop_lat', 'stop_lon']],left_on='stop_id', right_on='stop_id')\n",
    "\n",
    "    # join df with trips to get direction and route id\n",
    "    try:\n",
    "        df = pd.merge(df, trips[['trip_id', 'direction_id', 'route_id']], left_on='trip_id', right_on='trip_id', how='left')\n",
    "    except:\n",
    "        pass# df = pd.merge(df, trips[['trip_id', 'route_id']], left_on='trip_id', right_on='trip_id', how='left')\n",
    "\n",
    "    # join df with routes to get route id\n",
    "    try:\n",
    "        df = pd.merge(df, routes[['route_id', 'route_long_name']], left_on='route_id', right_on='route_id', how='left')\n",
    "    except:\n",
    "        pass\n",
    "\n",
    "    legs = pd.DataFrame()\n",
    "    legs['route_id'] = df['route_id']\n",
    "    legs['starttime'] = df['departure_datetime']\n",
    "    \n",
    "    try:\n",
    "        legs['stoptime'] = df['arrival_datetime'].shift(-1).fillna(method='ffill')\n",
    "        legs['tripduration'] = ((legs['stoptime'] - legs['starttime'])/np.timedelta64(1, 's')).astype(int)\n",
    "    except:\n",
    "        legs['stoptime'] = df['arrival_datetime']\n",
    "        legs['tripduration'] = ((legs['stoptime'] - legs['starttime'])/np.timedelta64(1, 's')).astype(int)\n",
    "    \n",
    "    legs['start_lat'] = df['stop_lat']\n",
    "    legs['start_lon'] = df['stop_lon']\n",
    "\n",
    "    if len(legs) > 1:\n",
    "        legs['end_lat'] = legs['start_lat'].shift(-1).fillna(method='ffill')\n",
    "        legs['end_lon'] = legs['start_lon'].shift(-1).fillna(method='ffill')\n",
    "    else:\n",
    "        legs['end_lat'] = legs['start_lat']\n",
    "        legs['end_lon'] = legs['start_lon']\n",
    "\n",
    "\n",
    "    legs['route_name'] = df['route_long_name']\n",
    "    legs['route_id'] = df['route_id']\n",
    "    \n",
    "    # append results to triplist\n",
    "    triplist.append(legs)\n",
    "    \n",
    "    if count % 100 == 0:\n",
    "        print str(dt.datetime.now()), \"finished trip number\", count, \"/\", len(monday_trips)"
   ]
  },
  {
   "cell_type": "code",
   "execution_count": 257,
   "metadata": {
    "collapsed": true
   },
   "outputs": [],
   "source": [
    "data = pd.concat(triplist)\n",
    "data = data[data.tripduration != 0]\n",
    "data = data[data.start_lat != 0]\n",
    "data = data[data.start_lon != 0]\n",
    "data = data.sort_values(by='starttime')\n",
    "data = data.reset_index(drop=True)\n",
    "\n",
    "data = pd.merge(data, routes_to_region)\n",
    "data = pd.merge(data, region_ids)"
   ]
  },
  {
   "cell_type": "code",
   "execution_count": 258,
   "metadata": {
    "collapsed": false
   },
   "outputs": [
    {
     "data": {
      "text/html": [
       "<div>\n",
       "<table border=\"1\" class=\"dataframe\">\n",
       "  <thead>\n",
       "    <tr style=\"text-align: right;\">\n",
       "      <th></th>\n",
       "      <th>route_id</th>\n",
       "      <th>starttime</th>\n",
       "      <th>stoptime</th>\n",
       "      <th>tripduration</th>\n",
       "      <th>start_lat</th>\n",
       "      <th>start_lon</th>\n",
       "      <th>end_lat</th>\n",
       "      <th>end_lon</th>\n",
       "      <th>route_name</th>\n",
       "      <th>region_name</th>\n",
       "      <th>region_id</th>\n",
       "    </tr>\n",
       "  </thead>\n",
       "  <tbody>\n",
       "    <tr>\n",
       "      <th>0</th>\n",
       "      <td>42</td>\n",
       "      <td>2015-01-08 03:10:00</td>\n",
       "      <td>2015-01-08 03:35:00</td>\n",
       "      <td>1500</td>\n",
       "      <td>37.840474</td>\n",
       "      <td>-122.291615</td>\n",
       "      <td>37.789232</td>\n",
       "      <td>-122.392366</td>\n",
       "      <td>Amtrak Thruway Connecting Service</td>\n",
       "      <td>Connecting Services</td>\n",
       "      <td>7</td>\n",
       "    </tr>\n",
       "    <tr>\n",
       "      <th>1</th>\n",
       "      <td>42</td>\n",
       "      <td>2015-01-08 04:25:00</td>\n",
       "      <td>2015-01-08 04:45:00</td>\n",
       "      <td>1200</td>\n",
       "      <td>33.656771</td>\n",
       "      <td>-117.733695</td>\n",
       "      <td>33.751629</td>\n",
       "      <td>-117.856607</td>\n",
       "      <td>Amtrak Thruway Connecting Service</td>\n",
       "      <td>Connecting Services</td>\n",
       "      <td>7</td>\n",
       "    </tr>\n",
       "    <tr>\n",
       "      <th>2</th>\n",
       "      <td>42</td>\n",
       "      <td>2015-01-08 04:45:00</td>\n",
       "      <td>2015-01-08 05:05:00</td>\n",
       "      <td>1200</td>\n",
       "      <td>33.751629</td>\n",
       "      <td>-117.856607</td>\n",
       "      <td>33.868969</td>\n",
       "      <td>-117.922849</td>\n",
       "      <td>Amtrak Thruway Connecting Service</td>\n",
       "      <td>Connecting Services</td>\n",
       "      <td>7</td>\n",
       "    </tr>\n",
       "    <tr>\n",
       "      <th>3</th>\n",
       "      <td>42</td>\n",
       "      <td>2015-01-08 04:45:00</td>\n",
       "      <td>2015-01-08 05:05:00</td>\n",
       "      <td>1200</td>\n",
       "      <td>33.751629</td>\n",
       "      <td>-117.856607</td>\n",
       "      <td>33.868969</td>\n",
       "      <td>-117.922849</td>\n",
       "      <td>Amtrak Thruway Connecting Service</td>\n",
       "      <td>Connecting Services</td>\n",
       "      <td>7</td>\n",
       "    </tr>\n",
       "    <tr>\n",
       "      <th>4</th>\n",
       "      <td>42</td>\n",
       "      <td>2015-01-08 04:45:00</td>\n",
       "      <td>2015-01-08 05:05:00</td>\n",
       "      <td>1200</td>\n",
       "      <td>33.751629</td>\n",
       "      <td>-117.856607</td>\n",
       "      <td>33.868969</td>\n",
       "      <td>-117.922849</td>\n",
       "      <td>Amtrak Thruway Connecting Service</td>\n",
       "      <td>Connecting Services</td>\n",
       "      <td>7</td>\n",
       "    </tr>\n",
       "  </tbody>\n",
       "</table>\n",
       "</div>"
      ],
      "text/plain": [
       "   route_id           starttime            stoptime  tripduration  start_lat  \\\n",
       "0        42 2015-01-08 03:10:00 2015-01-08 03:35:00          1500  37.840474   \n",
       "1        42 2015-01-08 04:25:00 2015-01-08 04:45:00          1200  33.656771   \n",
       "2        42 2015-01-08 04:45:00 2015-01-08 05:05:00          1200  33.751629   \n",
       "3        42 2015-01-08 04:45:00 2015-01-08 05:05:00          1200  33.751629   \n",
       "4        42 2015-01-08 04:45:00 2015-01-08 05:05:00          1200  33.751629   \n",
       "\n",
       "    start_lon    end_lat     end_lon                         route_name  \\\n",
       "0 -122.291615  37.789232 -122.392366  Amtrak Thruway Connecting Service   \n",
       "1 -117.733695  33.751629 -117.856607  Amtrak Thruway Connecting Service   \n",
       "2 -117.856607  33.868969 -117.922849  Amtrak Thruway Connecting Service   \n",
       "3 -117.856607  33.868969 -117.922849  Amtrak Thruway Connecting Service   \n",
       "4 -117.856607  33.868969 -117.922849  Amtrak Thruway Connecting Service   \n",
       "\n",
       "           region_name  region_id  \n",
       "0  Connecting Services          7  \n",
       "1  Connecting Services          7  \n",
       "2  Connecting Services          7  \n",
       "3  Connecting Services          7  \n",
       "4  Connecting Services          7  "
      ]
     },
     "execution_count": 258,
     "metadata": {},
     "output_type": "execute_result"
    }
   ],
   "source": [
    "data.head()"
   ]
  },
  {
   "cell_type": "code",
   "execution_count": 259,
   "metadata": {
    "collapsed": true
   },
   "outputs": [],
   "source": [
    "data.to_csv(\"amtrak_4_thursday.csv\")"
   ]
  },
  {
   "cell_type": "markdown",
   "metadata": {},
   "source": [
    "# Friday"
   ]
  },
  {
   "cell_type": "code",
   "execution_count": 260,
   "metadata": {
    "collapsed": false
   },
   "outputs": [
    {
     "name": "stdout",
     "output_type": "stream",
     "text": [
      "There are  1337 trips on Friday\n"
     ]
    },
    {
     "data": {
      "text/plain": [
       "0    21001004722\n",
       "1    21001004723\n",
       "2    21001017818\n",
       "3    21001017820\n",
       "4    21031004714\n",
       "Name: trip_id, dtype: int64"
      ]
     },
     "execution_count": 260,
     "metadata": {},
     "output_type": "execute_result"
    }
   ],
   "source": [
    "friday_trips = friday['trip_id']\n",
    "print \"There are \", len(friday_trips), \"trips on Friday\"\n",
    "friday_trips.head()"
   ]
  },
  {
   "cell_type": "code",
   "execution_count": 261,
   "metadata": {
    "collapsed": true
   },
   "outputs": [],
   "source": [
    "arbitrary_dates = [date5, date6, date7, date8]"
   ]
  },
  {
   "cell_type": "code",
   "execution_count": 262,
   "metadata": {
    "collapsed": false
   },
   "outputs": [
    {
     "name": "stdout",
     "output_type": "stream",
     "text": [
      "2017-04-20 03:05:02.767903 finished trip number 100 / 1393\n",
      "2017-04-20 03:05:06.671115 finished trip number 200 / 1393\n",
      "2017-04-20 03:05:10.921814 finished trip number 300 / 1393\n",
      "2017-04-20 03:05:15.019593 finished trip number 400 / 1393\n",
      "2017-04-20 03:05:19.818246 finished trip number 500 / 1393\n",
      "2017-04-20 03:05:24.245627 finished trip number 600 / 1393\n",
      "2017-04-20 03:05:28.445776 finished trip number 700 / 1393\n",
      "2017-04-20 03:05:32.752267 finished trip number 800 / 1393\n",
      "2017-04-20 03:05:37.244757 finished trip number 900 / 1393\n",
      "2017-04-20 03:05:40.864886 finished trip number 1000 / 1393\n",
      "2017-04-20 03:05:44.440073 finished trip number 1100 / 1393\n",
      "2017-04-20 03:05:47.776255 finished trip number 1200 / 1393\n",
      "2017-04-20 03:05:50.863074 finished trip number 1300 / 1393\n"
     ]
    }
   ],
   "source": [
    "triplist = []\n",
    "count = 0\n",
    "\n",
    "for i in friday_trips:\n",
    "    count += 1\n",
    "    df = stop_times[stop_times['trip_id'] == i]\n",
    "    \n",
    "    # add arrival and departure dates\n",
    "    # add arrival and departure dates\n",
    "    df = add_arrival_date(df, dates = arbitrary_dates)\n",
    "    df = add_departure_date(df, dates = arbitrary_dates)\n",
    "    df['arrival_datetime'] = pd.to_datetime(df['arrival_date'] + ' ' + df['arrival_time'])\n",
    "    df['departure_datetime'] = pd.to_datetime(df['departure_date'] + ' ' + df['departure_time'])\n",
    "\n",
    "    # join df with stops\n",
    "    df = pd.merge(df, stops[['stop_id', 'stop_name', 'stop_lat', 'stop_lon']],left_on='stop_id', right_on='stop_id')\n",
    "\n",
    "    # join df with trips to get direction and route id\n",
    "    try:\n",
    "        df = pd.merge(df, trips[['trip_id', 'direction_id', 'route_id']], left_on='trip_id', right_on='trip_id', how='left')\n",
    "    except:\n",
    "        pass# df = pd.merge(df, trips[['trip_id', 'route_id']], left_on='trip_id', right_on='trip_id', how='left')\n",
    "\n",
    "    # join df with routes to get route id\n",
    "    try:\n",
    "        df = pd.merge(df, routes[['route_id', 'route_long_name']], left_on='route_id', right_on='route_id', how='left')\n",
    "    except:\n",
    "        pass\n",
    "\n",
    "    legs = pd.DataFrame()\n",
    "    legs['route_id'] = df['route_id']\n",
    "    legs['starttime'] = df['departure_datetime']\n",
    "    \n",
    "    try:\n",
    "        legs['stoptime'] = df['arrival_datetime'].shift(-1).fillna(method='ffill')\n",
    "        legs['tripduration'] = ((legs['stoptime'] - legs['starttime'])/np.timedelta64(1, 's')).astype(int)\n",
    "    except:\n",
    "        legs['stoptime'] = df['arrival_datetime']\n",
    "        legs['tripduration'] = ((legs['stoptime'] - legs['starttime'])/np.timedelta64(1, 's')).astype(int)\n",
    "    \n",
    "    legs['start_lat'] = df['stop_lat']\n",
    "    legs['start_lon'] = df['stop_lon']\n",
    "\n",
    "    if len(legs) > 1:\n",
    "        legs['end_lat'] = legs['start_lat'].shift(-1).fillna(method='ffill')\n",
    "        legs['end_lon'] = legs['start_lon'].shift(-1).fillna(method='ffill')\n",
    "    else:\n",
    "        legs['end_lat'] = legs['start_lat']\n",
    "        legs['end_lon'] = legs['start_lon']\n",
    "\n",
    "\n",
    "    legs['route_name'] = df['route_long_name']\n",
    "    legs['route_id'] = df['route_id']\n",
    "    \n",
    "    # append results to triplist\n",
    "    triplist.append(legs)\n",
    "    \n",
    "    if count % 100 == 0:\n",
    "        print str(dt.datetime.now()), \"finished trip number\", count, \"/\", len(monday_trips)"
   ]
  },
  {
   "cell_type": "code",
   "execution_count": 263,
   "metadata": {
    "collapsed": true
   },
   "outputs": [],
   "source": [
    "data = pd.concat(triplist)\n",
    "data = data[data.tripduration != 0]\n",
    "data = data[data.start_lat != 0]\n",
    "data = data[data.start_lon != 0]\n",
    "data = data.sort_values(by='starttime')\n",
    "data = data.reset_index(drop=True)\n",
    "\n",
    "data = pd.merge(data, routes_to_region)\n",
    "data = pd.merge(data, region_ids)"
   ]
  },
  {
   "cell_type": "code",
   "execution_count": 264,
   "metadata": {
    "collapsed": false
   },
   "outputs": [
    {
     "data": {
      "text/html": [
       "<div>\n",
       "<table border=\"1\" class=\"dataframe\">\n",
       "  <thead>\n",
       "    <tr style=\"text-align: right;\">\n",
       "      <th></th>\n",
       "      <th>route_id</th>\n",
       "      <th>starttime</th>\n",
       "      <th>stoptime</th>\n",
       "      <th>tripduration</th>\n",
       "      <th>start_lat</th>\n",
       "      <th>start_lon</th>\n",
       "      <th>end_lat</th>\n",
       "      <th>end_lon</th>\n",
       "      <th>route_name</th>\n",
       "      <th>region_name</th>\n",
       "      <th>region_id</th>\n",
       "    </tr>\n",
       "  </thead>\n",
       "  <tbody>\n",
       "    <tr>\n",
       "      <th>0</th>\n",
       "      <td>42</td>\n",
       "      <td>2015-01-09 03:10:00</td>\n",
       "      <td>2015-01-09 03:35:00</td>\n",
       "      <td>1500</td>\n",
       "      <td>37.840474</td>\n",
       "      <td>-122.291615</td>\n",
       "      <td>37.789232</td>\n",
       "      <td>-122.392366</td>\n",
       "      <td>Amtrak Thruway Connecting Service</td>\n",
       "      <td>Connecting Services</td>\n",
       "      <td>7</td>\n",
       "    </tr>\n",
       "    <tr>\n",
       "      <th>1</th>\n",
       "      <td>42</td>\n",
       "      <td>2015-01-09 04:45:00</td>\n",
       "      <td>2015-01-09 05:05:00</td>\n",
       "      <td>1200</td>\n",
       "      <td>33.751629</td>\n",
       "      <td>-117.856607</td>\n",
       "      <td>33.868969</td>\n",
       "      <td>-117.922849</td>\n",
       "      <td>Amtrak Thruway Connecting Service</td>\n",
       "      <td>Connecting Services</td>\n",
       "      <td>7</td>\n",
       "    </tr>\n",
       "    <tr>\n",
       "      <th>2</th>\n",
       "      <td>42</td>\n",
       "      <td>2015-01-09 04:45:00</td>\n",
       "      <td>2015-01-09 05:05:00</td>\n",
       "      <td>1200</td>\n",
       "      <td>33.751629</td>\n",
       "      <td>-117.856607</td>\n",
       "      <td>33.868969</td>\n",
       "      <td>-117.922849</td>\n",
       "      <td>Amtrak Thruway Connecting Service</td>\n",
       "      <td>Connecting Services</td>\n",
       "      <td>7</td>\n",
       "    </tr>\n",
       "    <tr>\n",
       "      <th>3</th>\n",
       "      <td>42</td>\n",
       "      <td>2015-01-09 04:45:00</td>\n",
       "      <td>2015-01-09 05:05:00</td>\n",
       "      <td>1200</td>\n",
       "      <td>33.751629</td>\n",
       "      <td>-117.856607</td>\n",
       "      <td>33.868969</td>\n",
       "      <td>-117.922849</td>\n",
       "      <td>Amtrak Thruway Connecting Service</td>\n",
       "      <td>Connecting Services</td>\n",
       "      <td>7</td>\n",
       "    </tr>\n",
       "    <tr>\n",
       "      <th>4</th>\n",
       "      <td>12</td>\n",
       "      <td>2015-01-09 05:00:00</td>\n",
       "      <td>2015-01-09 07:00:00</td>\n",
       "      <td>7200</td>\n",
       "      <td>37.724235</td>\n",
       "      <td>-89.216628</td>\n",
       "      <td>38.624461</td>\n",
       "      <td>-90.203838</td>\n",
       "      <td>Amtrak Thruway Connecting Service</td>\n",
       "      <td>Connecting Services</td>\n",
       "      <td>7</td>\n",
       "    </tr>\n",
       "  </tbody>\n",
       "</table>\n",
       "</div>"
      ],
      "text/plain": [
       "   route_id           starttime            stoptime  tripduration  start_lat  \\\n",
       "0        42 2015-01-09 03:10:00 2015-01-09 03:35:00          1500  37.840474   \n",
       "1        42 2015-01-09 04:45:00 2015-01-09 05:05:00          1200  33.751629   \n",
       "2        42 2015-01-09 04:45:00 2015-01-09 05:05:00          1200  33.751629   \n",
       "3        42 2015-01-09 04:45:00 2015-01-09 05:05:00          1200  33.751629   \n",
       "4        12 2015-01-09 05:00:00 2015-01-09 07:00:00          7200  37.724235   \n",
       "\n",
       "    start_lon    end_lat     end_lon                         route_name  \\\n",
       "0 -122.291615  37.789232 -122.392366  Amtrak Thruway Connecting Service   \n",
       "1 -117.856607  33.868969 -117.922849  Amtrak Thruway Connecting Service   \n",
       "2 -117.856607  33.868969 -117.922849  Amtrak Thruway Connecting Service   \n",
       "3 -117.856607  33.868969 -117.922849  Amtrak Thruway Connecting Service   \n",
       "4  -89.216628  38.624461  -90.203838  Amtrak Thruway Connecting Service   \n",
       "\n",
       "           region_name  region_id  \n",
       "0  Connecting Services          7  \n",
       "1  Connecting Services          7  \n",
       "2  Connecting Services          7  \n",
       "3  Connecting Services          7  \n",
       "4  Connecting Services          7  "
      ]
     },
     "execution_count": 264,
     "metadata": {},
     "output_type": "execute_result"
    }
   ],
   "source": [
    "data.head()"
   ]
  },
  {
   "cell_type": "code",
   "execution_count": 265,
   "metadata": {
    "collapsed": true
   },
   "outputs": [],
   "source": [
    "data.to_csv(\"amtrak_5_friday.csv\")"
   ]
  },
  {
   "cell_type": "markdown",
   "metadata": {},
   "source": [
    "# Saturday"
   ]
  },
  {
   "cell_type": "code",
   "execution_count": 266,
   "metadata": {
    "collapsed": false
   },
   "outputs": [
    {
     "name": "stdout",
     "output_type": "stream",
     "text": [
      "There are  963 trips on Saturday\n"
     ]
    },
    {
     "data": {
      "text/plain": [
       "130     2201985090\n",
       "131    22031017944\n",
       "133    22031017946\n",
       "141    22071017953\n",
       "143    22071017955\n",
       "Name: trip_id, dtype: int64"
      ]
     },
     "execution_count": 266,
     "metadata": {},
     "output_type": "execute_result"
    }
   ],
   "source": [
    "saturday_trips = saturday['trip_id']\n",
    "print \"There are \", len(saturday_trips), \"trips on Saturday\"\n",
    "saturday_trips.head()"
   ]
  },
  {
   "cell_type": "code",
   "execution_count": 267,
   "metadata": {
    "collapsed": true
   },
   "outputs": [],
   "source": [
    "arbitrary_dates = [date6, date7, date8, date9]"
   ]
  },
  {
   "cell_type": "code",
   "execution_count": 268,
   "metadata": {
    "collapsed": false
   },
   "outputs": [
    {
     "name": "stdout",
     "output_type": "stream",
     "text": [
      "2017-04-20 03:05:57.389018 finished trip number 100 / 1393\n",
      "2017-04-20 03:06:01.174590 finished trip number 200 / 1393\n",
      "2017-04-20 03:06:05.412199 finished trip number 300 / 1393\n",
      "2017-04-20 03:06:08.849872 finished trip number 400 / 1393\n",
      "2017-04-20 03:06:13.475869 finished trip number 500 / 1393\n",
      "2017-04-20 03:06:18.741475 finished trip number 600 / 1393\n",
      "2017-04-20 03:06:23.969522 finished trip number 700 / 1393\n",
      "2017-04-20 03:06:28.705039 finished trip number 800 / 1393\n",
      "2017-04-20 03:06:32.809898 finished trip number 900 / 1393\n",
      "2017-04-20 03:06:36.239082 finished trip number 1000 / 1393\n",
      "2017-04-20 03:06:39.905747 finished trip number 1100 / 1393\n",
      "2017-04-20 03:06:43.387165 finished trip number 1200 / 1393\n",
      "2017-04-20 03:06:46.759040 finished trip number 1300 / 1393\n"
     ]
    }
   ],
   "source": [
    "triplist = []\n",
    "count = 0\n",
    "\n",
    "for i in friday_trips:\n",
    "    count += 1\n",
    "    df = stop_times[stop_times['trip_id'] == i]\n",
    "    \n",
    "    # add arrival and departure dates\n",
    "    # add arrival and departure dates\n",
    "    df = add_arrival_date(df, dates = arbitrary_dates)\n",
    "    df = add_departure_date(df, dates = arbitrary_dates)\n",
    "    df['arrival_datetime'] = pd.to_datetime(df['arrival_date'] + ' ' + df['arrival_time'])\n",
    "    df['departure_datetime'] = pd.to_datetime(df['departure_date'] + ' ' + df['departure_time'])\n",
    "\n",
    "    # join df with stops\n",
    "    df = pd.merge(df, stops[['stop_id', 'stop_name', 'stop_lat', 'stop_lon']],left_on='stop_id', right_on='stop_id')\n",
    "\n",
    "    # join df with trips to get direction and route id\n",
    "    try:\n",
    "        df = pd.merge(df, trips[['trip_id', 'direction_id', 'route_id']], left_on='trip_id', right_on='trip_id', how='left')\n",
    "    except:\n",
    "        pass# df = pd.merge(df, trips[['trip_id', 'route_id']], left_on='trip_id', right_on='trip_id', how='left')\n",
    "\n",
    "    # join df with routes to get route id\n",
    "    try:\n",
    "        df = pd.merge(df, routes[['route_id', 'route_long_name']], left_on='route_id', right_on='route_id', how='left')\n",
    "    except:\n",
    "        pass\n",
    "\n",
    "    legs = pd.DataFrame()\n",
    "    legs['route_id'] = df['route_id']\n",
    "    legs['starttime'] = df['departure_datetime']\n",
    "    \n",
    "    try:\n",
    "        legs['stoptime'] = df['arrival_datetime'].shift(-1).fillna(method='ffill')\n",
    "        legs['tripduration'] = ((legs['stoptime'] - legs['starttime'])/np.timedelta64(1, 's')).astype(int)\n",
    "    except:\n",
    "        legs['stoptime'] = df['arrival_datetime']\n",
    "        legs['tripduration'] = ((legs['stoptime'] - legs['starttime'])/np.timedelta64(1, 's')).astype(int)\n",
    "    \n",
    "    legs['start_lat'] = df['stop_lat']\n",
    "    legs['start_lon'] = df['stop_lon']\n",
    "\n",
    "    if len(legs) > 1:\n",
    "        legs['end_lat'] = legs['start_lat'].shift(-1).fillna(method='ffill')\n",
    "        legs['end_lon'] = legs['start_lon'].shift(-1).fillna(method='ffill')\n",
    "    else:\n",
    "        legs['end_lat'] = legs['start_lat']\n",
    "        legs['end_lon'] = legs['start_lon']\n",
    "\n",
    "\n",
    "    legs['route_name'] = df['route_long_name']\n",
    "    legs['route_id'] = df['route_id']\n",
    "    \n",
    "    # append results to triplist\n",
    "    triplist.append(legs)\n",
    "    \n",
    "    if count % 100 == 0:\n",
    "        print str(dt.datetime.now()), \"finished trip number\", count, \"/\", len(monday_trips)"
   ]
  },
  {
   "cell_type": "code",
   "execution_count": 269,
   "metadata": {
    "collapsed": true
   },
   "outputs": [],
   "source": [
    "data = pd.concat(triplist)\n",
    "data = data[data.tripduration != 0]\n",
    "data = data[data.start_lat != 0]\n",
    "data = data[data.start_lon != 0]\n",
    "data = data.sort_values(by='starttime')\n",
    "data = data.reset_index(drop=True)\n",
    "\n",
    "data = pd.merge(data, routes_to_region)\n",
    "data = pd.merge(data, region_ids)"
   ]
  },
  {
   "cell_type": "code",
   "execution_count": 270,
   "metadata": {
    "collapsed": false
   },
   "outputs": [
    {
     "data": {
      "text/html": [
       "<div>\n",
       "<table border=\"1\" class=\"dataframe\">\n",
       "  <thead>\n",
       "    <tr style=\"text-align: right;\">\n",
       "      <th></th>\n",
       "      <th>route_id</th>\n",
       "      <th>starttime</th>\n",
       "      <th>stoptime</th>\n",
       "      <th>tripduration</th>\n",
       "      <th>start_lat</th>\n",
       "      <th>start_lon</th>\n",
       "      <th>end_lat</th>\n",
       "      <th>end_lon</th>\n",
       "      <th>route_name</th>\n",
       "      <th>region_name</th>\n",
       "      <th>region_id</th>\n",
       "    </tr>\n",
       "  </thead>\n",
       "  <tbody>\n",
       "    <tr>\n",
       "      <th>0</th>\n",
       "      <td>42</td>\n",
       "      <td>2015-01-10 03:10:00</td>\n",
       "      <td>2015-01-10 03:35:00</td>\n",
       "      <td>1500</td>\n",
       "      <td>37.840474</td>\n",
       "      <td>-122.291615</td>\n",
       "      <td>37.789232</td>\n",
       "      <td>-122.392366</td>\n",
       "      <td>Amtrak Thruway Connecting Service</td>\n",
       "      <td>Connecting Services</td>\n",
       "      <td>7</td>\n",
       "    </tr>\n",
       "    <tr>\n",
       "      <th>1</th>\n",
       "      <td>42</td>\n",
       "      <td>2015-01-10 04:45:00</td>\n",
       "      <td>2015-01-10 05:05:00</td>\n",
       "      <td>1200</td>\n",
       "      <td>33.751629</td>\n",
       "      <td>-117.856607</td>\n",
       "      <td>33.868969</td>\n",
       "      <td>-117.922849</td>\n",
       "      <td>Amtrak Thruway Connecting Service</td>\n",
       "      <td>Connecting Services</td>\n",
       "      <td>7</td>\n",
       "    </tr>\n",
       "    <tr>\n",
       "      <th>2</th>\n",
       "      <td>42</td>\n",
       "      <td>2015-01-10 04:45:00</td>\n",
       "      <td>2015-01-10 05:05:00</td>\n",
       "      <td>1200</td>\n",
       "      <td>33.751629</td>\n",
       "      <td>-117.856607</td>\n",
       "      <td>33.868969</td>\n",
       "      <td>-117.922849</td>\n",
       "      <td>Amtrak Thruway Connecting Service</td>\n",
       "      <td>Connecting Services</td>\n",
       "      <td>7</td>\n",
       "    </tr>\n",
       "    <tr>\n",
       "      <th>3</th>\n",
       "      <td>42</td>\n",
       "      <td>2015-01-10 04:45:00</td>\n",
       "      <td>2015-01-10 05:05:00</td>\n",
       "      <td>1200</td>\n",
       "      <td>33.751629</td>\n",
       "      <td>-117.856607</td>\n",
       "      <td>33.868969</td>\n",
       "      <td>-117.922849</td>\n",
       "      <td>Amtrak Thruway Connecting Service</td>\n",
       "      <td>Connecting Services</td>\n",
       "      <td>7</td>\n",
       "    </tr>\n",
       "    <tr>\n",
       "      <th>4</th>\n",
       "      <td>12</td>\n",
       "      <td>2015-01-10 05:00:00</td>\n",
       "      <td>2015-01-10 07:00:00</td>\n",
       "      <td>7200</td>\n",
       "      <td>37.724235</td>\n",
       "      <td>-89.216628</td>\n",
       "      <td>38.624461</td>\n",
       "      <td>-90.203838</td>\n",
       "      <td>Amtrak Thruway Connecting Service</td>\n",
       "      <td>Connecting Services</td>\n",
       "      <td>7</td>\n",
       "    </tr>\n",
       "  </tbody>\n",
       "</table>\n",
       "</div>"
      ],
      "text/plain": [
       "   route_id           starttime            stoptime  tripduration  start_lat  \\\n",
       "0        42 2015-01-10 03:10:00 2015-01-10 03:35:00          1500  37.840474   \n",
       "1        42 2015-01-10 04:45:00 2015-01-10 05:05:00          1200  33.751629   \n",
       "2        42 2015-01-10 04:45:00 2015-01-10 05:05:00          1200  33.751629   \n",
       "3        42 2015-01-10 04:45:00 2015-01-10 05:05:00          1200  33.751629   \n",
       "4        12 2015-01-10 05:00:00 2015-01-10 07:00:00          7200  37.724235   \n",
       "\n",
       "    start_lon    end_lat     end_lon                         route_name  \\\n",
       "0 -122.291615  37.789232 -122.392366  Amtrak Thruway Connecting Service   \n",
       "1 -117.856607  33.868969 -117.922849  Amtrak Thruway Connecting Service   \n",
       "2 -117.856607  33.868969 -117.922849  Amtrak Thruway Connecting Service   \n",
       "3 -117.856607  33.868969 -117.922849  Amtrak Thruway Connecting Service   \n",
       "4  -89.216628  38.624461  -90.203838  Amtrak Thruway Connecting Service   \n",
       "\n",
       "           region_name  region_id  \n",
       "0  Connecting Services          7  \n",
       "1  Connecting Services          7  \n",
       "2  Connecting Services          7  \n",
       "3  Connecting Services          7  \n",
       "4  Connecting Services          7  "
      ]
     },
     "execution_count": 270,
     "metadata": {},
     "output_type": "execute_result"
    }
   ],
   "source": [
    "data.head()"
   ]
  },
  {
   "cell_type": "code",
   "execution_count": 271,
   "metadata": {
    "collapsed": true
   },
   "outputs": [],
   "source": [
    "data.to_csv(\"amtrak_6_saturday.csv\")"
   ]
  },
  {
   "cell_type": "markdown",
   "metadata": {},
   "source": [
    "# Sunday"
   ]
  },
  {
   "cell_type": "code",
   "execution_count": 272,
   "metadata": {
    "collapsed": false
   },
   "outputs": [
    {
     "name": "stdout",
     "output_type": "stream",
     "text": [
      "There are  1110 trips on Sunday\n"
     ]
    },
    {
     "data": {
      "text/plain": [
       "132    22031017945\n",
       "134    22031017947\n",
       "135    22031017948\n",
       "136    22051017294\n",
       "138    22051017949\n",
       "Name: trip_id, dtype: int64"
      ]
     },
     "execution_count": 272,
     "metadata": {},
     "output_type": "execute_result"
    }
   ],
   "source": [
    "sunday_trips = sunday['trip_id']\n",
    "print \"There are \", len(sunday_trips), \"trips on Sunday\"\n",
    "sunday_trips.head()"
   ]
  },
  {
   "cell_type": "code",
   "execution_count": 273,
   "metadata": {
    "collapsed": true
   },
   "outputs": [],
   "source": [
    "arbitrary_dates = [date7, date8, date9, date10]"
   ]
  },
  {
   "cell_type": "code",
   "execution_count": 274,
   "metadata": {
    "collapsed": false
   },
   "outputs": [
    {
     "name": "stdout",
     "output_type": "stream",
     "text": [
      "2017-04-20 03:06:53.782805 finished trip number 100 / 1393\n",
      "2017-04-20 03:06:57.704629 finished trip number 200 / 1393\n",
      "2017-04-20 03:07:02.038895 finished trip number 300 / 1393\n",
      "2017-04-20 03:07:06.140997 finished trip number 400 / 1393\n",
      "2017-04-20 03:07:10.940119 finished trip number 500 / 1393\n",
      "2017-04-20 03:07:16.824076 finished trip number 600 / 1393\n",
      "2017-04-20 03:07:24.538342 finished trip number 700 / 1393\n",
      "2017-04-20 03:07:29.754412 finished trip number 800 / 1393\n",
      "2017-04-20 03:07:34.817056 finished trip number 900 / 1393\n",
      "2017-04-20 03:07:38.906080 finished trip number 1000 / 1393\n",
      "2017-04-20 03:07:42.722068 finished trip number 1100 / 1393\n",
      "2017-04-20 03:07:46.571598 finished trip number 1200 / 1393\n",
      "2017-04-20 03:07:49.582167 finished trip number 1300 / 1393\n"
     ]
    }
   ],
   "source": [
    "triplist = []\n",
    "count = 0\n",
    "\n",
    "for i in friday_trips:\n",
    "    count += 1\n",
    "    df = stop_times[stop_times['trip_id'] == i]\n",
    "    \n",
    "    # add arrival and departure dates\n",
    "    # add arrival and departure dates\n",
    "    df = add_arrival_date(df, dates = arbitrary_dates)\n",
    "    df = add_departure_date(df, dates = arbitrary_dates)\n",
    "    df['arrival_datetime'] = pd.to_datetime(df['arrival_date'] + ' ' + df['arrival_time'])\n",
    "    df['departure_datetime'] = pd.to_datetime(df['departure_date'] + ' ' + df['departure_time'])\n",
    "\n",
    "    # join df with stops\n",
    "    df = pd.merge(df, stops[['stop_id', 'stop_name', 'stop_lat', 'stop_lon']],left_on='stop_id', right_on='stop_id')\n",
    "\n",
    "    # join df with trips to get direction and route id\n",
    "    try:\n",
    "        df = pd.merge(df, trips[['trip_id', 'direction_id', 'route_id']], left_on='trip_id', right_on='trip_id', how='left')\n",
    "    except:\n",
    "        pass# df = pd.merge(df, trips[['trip_id', 'route_id']], left_on='trip_id', right_on='trip_id', how='left')\n",
    "\n",
    "    # join df with routes to get route id\n",
    "    try:\n",
    "        df = pd.merge(df, routes[['route_id', 'route_long_name']], left_on='route_id', right_on='route_id', how='left')\n",
    "    except:\n",
    "        pass\n",
    "\n",
    "    legs = pd.DataFrame()\n",
    "    legs['route_id'] = df['route_id']\n",
    "    legs['starttime'] = df['departure_datetime']\n",
    "    \n",
    "    try:\n",
    "        legs['stoptime'] = df['arrival_datetime'].shift(-1).fillna(method='ffill')\n",
    "        legs['tripduration'] = ((legs['stoptime'] - legs['starttime'])/np.timedelta64(1, 's')).astype(int)\n",
    "    except:\n",
    "        legs['stoptime'] = df['arrival_datetime']\n",
    "        legs['tripduration'] = ((legs['stoptime'] - legs['starttime'])/np.timedelta64(1, 's')).astype(int)\n",
    "    \n",
    "    legs['start_lat'] = df['stop_lat']\n",
    "    legs['start_lon'] = df['stop_lon']\n",
    "\n",
    "    if len(legs) > 1:\n",
    "        legs['end_lat'] = legs['start_lat'].shift(-1).fillna(method='ffill')\n",
    "        legs['end_lon'] = legs['start_lon'].shift(-1).fillna(method='ffill')\n",
    "    else:\n",
    "        legs['end_lat'] = legs['start_lat']\n",
    "        legs['end_lon'] = legs['start_lon']\n",
    "\n",
    "\n",
    "    legs['route_name'] = df['route_long_name']\n",
    "    legs['route_id'] = df['route_id']\n",
    "    \n",
    "    # append results to triplist\n",
    "    triplist.append(legs)\n",
    "    \n",
    "    if count % 100 == 0:\n",
    "        print str(dt.datetime.now()), \"finished trip number\", count, \"/\", len(monday_trips)"
   ]
  },
  {
   "cell_type": "code",
   "execution_count": 275,
   "metadata": {
    "collapsed": true
   },
   "outputs": [],
   "source": [
    "data = pd.concat(triplist)\n",
    "data = data[data.tripduration != 0]\n",
    "data = data[data.start_lat != 0]\n",
    "data = data[data.start_lon != 0]\n",
    "data = data.sort_values(by='starttime')\n",
    "data = data.reset_index(drop=True)\n",
    "\n",
    "data = pd.merge(data, routes_to_region)\n",
    "data = pd.merge(data, region_ids)"
   ]
  },
  {
   "cell_type": "code",
   "execution_count": 276,
   "metadata": {
    "collapsed": false
   },
   "outputs": [
    {
     "data": {
      "text/html": [
       "<div>\n",
       "<table border=\"1\" class=\"dataframe\">\n",
       "  <thead>\n",
       "    <tr style=\"text-align: right;\">\n",
       "      <th></th>\n",
       "      <th>route_id</th>\n",
       "      <th>starttime</th>\n",
       "      <th>stoptime</th>\n",
       "      <th>tripduration</th>\n",
       "      <th>start_lat</th>\n",
       "      <th>start_lon</th>\n",
       "      <th>end_lat</th>\n",
       "      <th>end_lon</th>\n",
       "      <th>route_name</th>\n",
       "      <th>region_name</th>\n",
       "      <th>region_id</th>\n",
       "    </tr>\n",
       "  </thead>\n",
       "  <tbody>\n",
       "    <tr>\n",
       "      <th>0</th>\n",
       "      <td>42</td>\n",
       "      <td>2015-01-11 03:10:00</td>\n",
       "      <td>2015-01-11 03:35:00</td>\n",
       "      <td>1500</td>\n",
       "      <td>37.840474</td>\n",
       "      <td>-122.291615</td>\n",
       "      <td>37.789232</td>\n",
       "      <td>-122.392366</td>\n",
       "      <td>Amtrak Thruway Connecting Service</td>\n",
       "      <td>Connecting Services</td>\n",
       "      <td>7</td>\n",
       "    </tr>\n",
       "    <tr>\n",
       "      <th>1</th>\n",
       "      <td>42</td>\n",
       "      <td>2015-01-11 04:45:00</td>\n",
       "      <td>2015-01-11 05:05:00</td>\n",
       "      <td>1200</td>\n",
       "      <td>33.751629</td>\n",
       "      <td>-117.856607</td>\n",
       "      <td>33.868969</td>\n",
       "      <td>-117.922849</td>\n",
       "      <td>Amtrak Thruway Connecting Service</td>\n",
       "      <td>Connecting Services</td>\n",
       "      <td>7</td>\n",
       "    </tr>\n",
       "    <tr>\n",
       "      <th>2</th>\n",
       "      <td>42</td>\n",
       "      <td>2015-01-11 04:45:00</td>\n",
       "      <td>2015-01-11 05:05:00</td>\n",
       "      <td>1200</td>\n",
       "      <td>33.751629</td>\n",
       "      <td>-117.856607</td>\n",
       "      <td>33.868969</td>\n",
       "      <td>-117.922849</td>\n",
       "      <td>Amtrak Thruway Connecting Service</td>\n",
       "      <td>Connecting Services</td>\n",
       "      <td>7</td>\n",
       "    </tr>\n",
       "    <tr>\n",
       "      <th>3</th>\n",
       "      <td>42</td>\n",
       "      <td>2015-01-11 04:45:00</td>\n",
       "      <td>2015-01-11 05:05:00</td>\n",
       "      <td>1200</td>\n",
       "      <td>33.751629</td>\n",
       "      <td>-117.856607</td>\n",
       "      <td>33.868969</td>\n",
       "      <td>-117.922849</td>\n",
       "      <td>Amtrak Thruway Connecting Service</td>\n",
       "      <td>Connecting Services</td>\n",
       "      <td>7</td>\n",
       "    </tr>\n",
       "    <tr>\n",
       "      <th>4</th>\n",
       "      <td>12</td>\n",
       "      <td>2015-01-11 05:00:00</td>\n",
       "      <td>2015-01-11 07:00:00</td>\n",
       "      <td>7200</td>\n",
       "      <td>37.724235</td>\n",
       "      <td>-89.216628</td>\n",
       "      <td>38.624461</td>\n",
       "      <td>-90.203838</td>\n",
       "      <td>Amtrak Thruway Connecting Service</td>\n",
       "      <td>Connecting Services</td>\n",
       "      <td>7</td>\n",
       "    </tr>\n",
       "  </tbody>\n",
       "</table>\n",
       "</div>"
      ],
      "text/plain": [
       "   route_id           starttime            stoptime  tripduration  start_lat  \\\n",
       "0        42 2015-01-11 03:10:00 2015-01-11 03:35:00          1500  37.840474   \n",
       "1        42 2015-01-11 04:45:00 2015-01-11 05:05:00          1200  33.751629   \n",
       "2        42 2015-01-11 04:45:00 2015-01-11 05:05:00          1200  33.751629   \n",
       "3        42 2015-01-11 04:45:00 2015-01-11 05:05:00          1200  33.751629   \n",
       "4        12 2015-01-11 05:00:00 2015-01-11 07:00:00          7200  37.724235   \n",
       "\n",
       "    start_lon    end_lat     end_lon                         route_name  \\\n",
       "0 -122.291615  37.789232 -122.392366  Amtrak Thruway Connecting Service   \n",
       "1 -117.856607  33.868969 -117.922849  Amtrak Thruway Connecting Service   \n",
       "2 -117.856607  33.868969 -117.922849  Amtrak Thruway Connecting Service   \n",
       "3 -117.856607  33.868969 -117.922849  Amtrak Thruway Connecting Service   \n",
       "4  -89.216628  38.624461  -90.203838  Amtrak Thruway Connecting Service   \n",
       "\n",
       "           region_name  region_id  \n",
       "0  Connecting Services          7  \n",
       "1  Connecting Services          7  \n",
       "2  Connecting Services          7  \n",
       "3  Connecting Services          7  \n",
       "4  Connecting Services          7  "
      ]
     },
     "execution_count": 276,
     "metadata": {},
     "output_type": "execute_result"
    }
   ],
   "source": [
    "data.head()"
   ]
  },
  {
   "cell_type": "code",
   "execution_count": 277,
   "metadata": {
    "collapsed": true
   },
   "outputs": [],
   "source": [
    "data.to_csv(\"amtrak_7_sunday.csv\")"
   ]
  },
  {
   "cell_type": "markdown",
   "metadata": {},
   "source": [
    "# Combine all of the days"
   ]
  },
  {
   "cell_type": "code",
   "execution_count": 321,
   "metadata": {
    "collapsed": false
   },
   "outputs": [
    {
     "name": "stdout",
     "output_type": "stream",
     "text": [
      "Amtrak Data Wrangling.ipynb\n",
      "Amtrak Trips After Trump.ipynb\n",
      "amtrak_1_monday.csv\n",
      "amtrak_2_tuesday.csv\n",
      "amtrak_3_wednesday.csv\n",
      "amtrak_4_thursday.csv\n",
      "amtrak_5_friday.csv\n",
      "amtrak_6_saturday.csv\n",
      "amtrak_7_sunday.csv\n",
      "amtrak_week.csv\n",
      "gtfs\n",
      "output.csv\n",
      "sketch\n",
      "sketch1\n",
      "sketch2\n",
      "test.csv\n"
     ]
    }
   ],
   "source": [
    "%%bash\n",
    "\n",
    "ls"
   ]
  },
  {
   "cell_type": "code",
   "execution_count": 279,
   "metadata": {
    "collapsed": true
   },
   "outputs": [],
   "source": [
    "%%bash\n",
    "\n",
    "OutFileName=\"amtrak_week.csv\"                       # Fix the output name\n",
    "i=0                                       # Reset a counter\n",
    "for filename in ./*.csv; do \n",
    " if [ \"$filename\"  != \"$OutFileName\" ] ;      # Avoid recursion \n",
    " then \n",
    "   if [[ $i -eq 0 ]] ; then \n",
    "      head -1  $filename >   $OutFileName # Copy header if it is the first file\n",
    "   fi\n",
    "   tail -n +2  $filename >>  $OutFileName # Append from the 2nd line each file\n",
    "   i=$(( $i + 1 ))                        # Increase the counter\n",
    " fi\n",
    "done"
   ]
  },
  {
   "cell_type": "code",
   "execution_count": 322,
   "metadata": {
    "collapsed": false
   },
   "outputs": [],
   "source": [
    "output_before = pd.read_csv(\"amtrak_week.csv\")\n",
    "del output_before['Unnamed: 0']\n",
    "output_before = output_before.sort_values(by=['route_name','starttime'])\n",
    "output_before = output_before.reset_index(drop=True)"
   ]
  },
  {
   "cell_type": "code",
   "execution_count": 323,
   "metadata": {
    "collapsed": false
   },
   "outputs": [
    {
     "data": {
      "text/html": [
       "<div>\n",
       "<table border=\"1\" class=\"dataframe\">\n",
       "  <thead>\n",
       "    <tr style=\"text-align: right;\">\n",
       "      <th></th>\n",
       "      <th>route_id</th>\n",
       "      <th>starttime</th>\n",
       "      <th>stoptime</th>\n",
       "      <th>tripduration</th>\n",
       "      <th>start_lat</th>\n",
       "      <th>start_lon</th>\n",
       "      <th>end_lat</th>\n",
       "      <th>end_lon</th>\n",
       "      <th>route_name</th>\n",
       "      <th>region_name</th>\n",
       "      <th>region_id</th>\n",
       "    </tr>\n",
       "  </thead>\n",
       "  <tbody>\n",
       "    <tr>\n",
       "      <th>0</th>\n",
       "      <td>66</td>\n",
       "      <td>2015-01-05 05:00:00</td>\n",
       "      <td>2015-01-05 05:29:00</td>\n",
       "      <td>1740</td>\n",
       "      <td>38.896993</td>\n",
       "      <td>-77.006422</td>\n",
       "      <td>39.307302</td>\n",
       "      <td>-76.615688</td>\n",
       "      <td>Acela Express</td>\n",
       "      <td>Northeast Corridor</td>\n",
       "      <td>1</td>\n",
       "    </tr>\n",
       "    <tr>\n",
       "      <th>1</th>\n",
       "      <td>66</td>\n",
       "      <td>2015-01-05 05:00:00</td>\n",
       "      <td>2015-01-05 05:29:00</td>\n",
       "      <td>1740</td>\n",
       "      <td>38.896993</td>\n",
       "      <td>-77.006422</td>\n",
       "      <td>39.307302</td>\n",
       "      <td>-76.615688</td>\n",
       "      <td>Acela Express</td>\n",
       "      <td>Northeast Corridor</td>\n",
       "      <td>1</td>\n",
       "    </tr>\n",
       "    <tr>\n",
       "      <th>2</th>\n",
       "      <td>66</td>\n",
       "      <td>2015-01-05 05:00:00</td>\n",
       "      <td>2015-01-05 05:29:00</td>\n",
       "      <td>1740</td>\n",
       "      <td>38.896993</td>\n",
       "      <td>-77.006422</td>\n",
       "      <td>39.307302</td>\n",
       "      <td>-76.615688</td>\n",
       "      <td>Acela Express</td>\n",
       "      <td>Northeast Corridor</td>\n",
       "      <td>1</td>\n",
       "    </tr>\n",
       "    <tr>\n",
       "      <th>3</th>\n",
       "      <td>66</td>\n",
       "      <td>2015-01-05 05:05:00</td>\n",
       "      <td>2015-01-05 05:10:00</td>\n",
       "      <td>300</td>\n",
       "      <td>42.352311</td>\n",
       "      <td>-71.055304</td>\n",
       "      <td>42.347317</td>\n",
       "      <td>-71.075828</td>\n",
       "      <td>Acela Express</td>\n",
       "      <td>Northeast Corridor</td>\n",
       "      <td>1</td>\n",
       "    </tr>\n",
       "    <tr>\n",
       "      <th>4</th>\n",
       "      <td>66</td>\n",
       "      <td>2015-01-05 05:05:00</td>\n",
       "      <td>2015-01-05 05:10:00</td>\n",
       "      <td>300</td>\n",
       "      <td>42.352311</td>\n",
       "      <td>-71.055304</td>\n",
       "      <td>42.347317</td>\n",
       "      <td>-71.075828</td>\n",
       "      <td>Acela Express</td>\n",
       "      <td>Northeast Corridor</td>\n",
       "      <td>1</td>\n",
       "    </tr>\n",
       "  </tbody>\n",
       "</table>\n",
       "</div>"
      ],
      "text/plain": [
       "   route_id            starttime             stoptime  tripduration  \\\n",
       "0        66  2015-01-05 05:00:00  2015-01-05 05:29:00          1740   \n",
       "1        66  2015-01-05 05:00:00  2015-01-05 05:29:00          1740   \n",
       "2        66  2015-01-05 05:00:00  2015-01-05 05:29:00          1740   \n",
       "3        66  2015-01-05 05:05:00  2015-01-05 05:10:00           300   \n",
       "4        66  2015-01-05 05:05:00  2015-01-05 05:10:00           300   \n",
       "\n",
       "   start_lat  start_lon    end_lat    end_lon     route_name  \\\n",
       "0  38.896993 -77.006422  39.307302 -76.615688  Acela Express   \n",
       "1  38.896993 -77.006422  39.307302 -76.615688  Acela Express   \n",
       "2  38.896993 -77.006422  39.307302 -76.615688  Acela Express   \n",
       "3  42.352311 -71.055304  42.347317 -71.075828  Acela Express   \n",
       "4  42.352311 -71.055304  42.347317 -71.075828  Acela Express   \n",
       "\n",
       "          region_name  region_id  \n",
       "0  Northeast Corridor          1  \n",
       "1  Northeast Corridor          1  \n",
       "2  Northeast Corridor          1  \n",
       "3  Northeast Corridor          1  \n",
       "4  Northeast Corridor          1  "
      ]
     },
     "execution_count": 323,
     "metadata": {},
     "output_type": "execute_result"
    }
   ],
   "source": [
    "output_before.head()"
   ]
  },
  {
   "cell_type": "code",
   "execution_count": 324,
   "metadata": {
    "collapsed": false
   },
   "outputs": [],
   "source": [
    "output_before.to_csv(\"output_before.csv\")"
   ]
  },
  {
   "cell_type": "code",
   "execution_count": null,
   "metadata": {
    "collapsed": true
   },
   "outputs": [],
   "source": []
  }
 ],
 "metadata": {
  "anaconda-cloud": {},
  "kernelspec": {
   "display_name": "Python [Root]",
   "language": "python",
   "name": "Python [Root]"
  },
  "language_info": {
   "codemirror_mode": {
    "name": "ipython",
    "version": 2
   },
   "file_extension": ".py",
   "mimetype": "text/x-python",
   "name": "python",
   "nbconvert_exporter": "python",
   "pygments_lexer": "ipython2",
   "version": "2.7.12"
  }
 },
 "nbformat": 4,
 "nbformat_minor": 0
}
